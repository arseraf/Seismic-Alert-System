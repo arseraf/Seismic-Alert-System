{
 "cells": [
  {
   "cell_type": "markdown",
   "metadata": {},
   "source": [
    "## Libraries imported"
   ]
  },
  {
   "cell_type": "code",
   "execution_count": 1,
   "metadata": {},
   "outputs": [
    {
     "name": "stderr",
     "output_type": "stream",
     "text": [
      "c:\\Users\\Auli\\AppData\\Local\\Programs\\Python\\Python310\\lib\\site-packages\\tqdm\\auto.py:22: TqdmWarning: IProgress not found. Please update jupyter and ipywidgets. See https://ipywidgets.readthedocs.io/en/stable/user_install.html\n",
      "  from .autonotebook import tqdm as notebook_tqdm\n"
     ]
    }
   ],
   "source": [
    "from transformers import AutoTokenizer, AutoModelForSequenceClassification\n",
    "from scipy.special import softmax"
   ]
  },
  {
   "cell_type": "markdown",
   "metadata": {},
   "source": [
    "## Test tweet"
   ]
  },
  {
   "cell_type": "code",
   "execution_count": 107,
   "metadata": {},
   "outputs": [],
   "source": [
    "tweet = \"@Twitter I hope you have a nice day 🙏🏻\" "
   ]
  },
  {
   "cell_type": "markdown",
   "metadata": {},
   "source": [
    "## Function to preprocess the tweet"
   ]
  },
  {
   "cell_type": "code",
   "execution_count": 2,
   "metadata": {},
   "outputs": [],
   "source": [
    "# preprocess tweet\n",
    "def preprocess_tweet(tweet):\n",
    "    tweet_words = []\n",
    "    for word in tweet.split(' '):\n",
    "        if word.startswith('@') and len(word) > 1:\n",
    "            word = '@user'\n",
    "\n",
    "        elif word.startswith('http'):\n",
    "            word = 'http'\n",
    "    \n",
    "        tweet_words.append(word)\n",
    "\n",
    "    tweet_proc = ' '.join(tweet_words)\n",
    "    return tweet_proc"
   ]
  },
  {
   "cell_type": "code",
   "execution_count": 108,
   "metadata": {},
   "outputs": [],
   "source": [
    "tweet_proc = preprocess_tweet(tweet)"
   ]
  },
  {
   "cell_type": "markdown",
   "metadata": {},
   "source": [
    "## Loading the model and tokenizer"
   ]
  },
  {
   "cell_type": "code",
   "execution_count": 3,
   "metadata": {},
   "outputs": [],
   "source": [
    "# load the model and tokenizer\n",
    "roberta = 'cardiffnlp/twitter-roberta-base-sentiment'\n",
    "\n",
    "model = AutoModelForSequenceClassification.from_pretrained(roberta)\n",
    "\n",
    "tokenizer = AutoTokenizer.from_pretrained(roberta)\n",
    "\n",
    "labels = ['Negative', 'Neutral', 'Positive']"
   ]
  },
  {
   "cell_type": "markdown",
   "metadata": {},
   "source": [
    "## Function that passes the process tweet to the model and returns the label"
   ]
  },
  {
   "cell_type": "code",
   "execution_count": 4,
   "metadata": {},
   "outputs": [],
   "source": [
    "# Sentiment analysis\n",
    "\n",
    "def sentiment_analysis(tweet_proc):\n",
    "    sentiments = dict()\n",
    "\n",
    "    encoded_tweet = tokenizer(tweet_proc, return_tensors='pt')\n",
    "    output = model(**encoded_tweet)\n",
    "\n",
    "    scores = output[0][0].detach().numpy()\n",
    "    scores = softmax(scores)\n",
    "\n",
    "    for i in range(len(scores)):\n",
    "\n",
    "        l = labels[i]\n",
    "        s = scores[i]\n",
    "        sentiments[l] = s\n",
    "        max_sentiment = max(sentiments, key=sentiments.get)\n",
    "\n",
    "    return max_sentiment"
   ]
  },
  {
   "cell_type": "code",
   "execution_count": 109,
   "metadata": {},
   "outputs": [],
   "source": [
    "sentiment = sentiment_analysis(tweet_proc)"
   ]
  },
  {
   "cell_type": "code",
   "execution_count": 110,
   "metadata": {},
   "outputs": [
    {
     "data": {
      "text/plain": [
       "'Positive'"
      ]
     },
     "execution_count": 110,
     "metadata": {},
     "output_type": "execute_result"
    }
   ],
   "source": [
    "sentiment"
   ]
  },
  {
   "cell_type": "markdown",
   "metadata": {},
   "source": [
    "## Testing the model with a dataframe"
   ]
  },
  {
   "cell_type": "code",
   "execution_count": 5,
   "metadata": {},
   "outputs": [],
   "source": [
    "import pandas as pd"
   ]
  },
  {
   "cell_type": "code",
   "execution_count": 6,
   "metadata": {},
   "outputs": [],
   "source": [
    "df = pd.read_csv('tweets_sismos.csv') "
   ]
  },
  {
   "cell_type": "code",
   "execution_count": 12,
   "metadata": {},
   "outputs": [],
   "source": [
    "df_proc = pd.DataFrame(df.tweet.apply(preprocess_tweet)) # Creating a new dataframe with the processed tweets"
   ]
  },
  {
   "cell_type": "code",
   "execution_count": 13,
   "metadata": {},
   "outputs": [
    {
     "data": {
      "text/html": [
       "<div>\n",
       "<style scoped>\n",
       "    .dataframe tbody tr th:only-of-type {\n",
       "        vertical-align: middle;\n",
       "    }\n",
       "\n",
       "    .dataframe tbody tr th {\n",
       "        vertical-align: top;\n",
       "    }\n",
       "\n",
       "    .dataframe thead th {\n",
       "        text-align: right;\n",
       "    }\n",
       "</style>\n",
       "<table border=\"1\" class=\"dataframe\">\n",
       "  <thead>\n",
       "    <tr style=\"text-align: right;\">\n",
       "      <th></th>\n",
       "      <th>tweet</th>\n",
       "    </tr>\n",
       "  </thead>\n",
       "  <tbody>\n",
       "    <tr>\n",
       "      <th>0</th>\n",
       "      <td>#Sismografo de la region del #Bíobío registran...</td>\n",
       "    </tr>\n",
       "    <tr>\n",
       "      <th>1</th>\n",
       "      <td>Todo México al enterarse del fallecimiento de ...</td>\n",
       "    </tr>\n",
       "    <tr>\n",
       "      <th>2</th>\n",
       "      <td>#Cultura | 🐶Murió Frida, famosa perra rescatis...</td>\n",
       "    </tr>\n",
       "    <tr>\n",
       "      <th>3</th>\n",
       "      <td>@user @user Jajajaja\\nLa que generó junto con ...</td>\n",
       "    </tr>\n",
       "    <tr>\n",
       "      <th>4</th>\n",
       "      <td>Muere Frida, perrita rescatista del sismo de 2...</td>\n",
       "    </tr>\n",
       "    <tr>\n",
       "      <th>...</th>\n",
       "      <td>...</td>\n",
       "    </tr>\n",
       "    <tr>\n",
       "      <th>495</th>\n",
       "      <td>#ÚLTIMAHORA SEMAR confirma muerte de Frida, la...</td>\n",
       "    </tr>\n",
       "    <tr>\n",
       "      <th>496</th>\n",
       "      <td>También estubo en el terremoto del 2016 en Ecu...</td>\n",
       "    </tr>\n",
       "    <tr>\n",
       "      <th>497</th>\n",
       "      <td>#ÚltimaHora🚨 Fallece perrita rescatista #Frida...</td>\n",
       "    </tr>\n",
       "    <tr>\n",
       "      <th>498</th>\n",
       "      <td>La Secretaría de Marina (@SEMAR_mx) informó es...</td>\n",
       "    </tr>\n",
       "    <tr>\n",
       "      <th>499</th>\n",
       "      <td>¡SE FUE UNA HEROÍNA! 🙏🏻 \\n\\nLa Secretaría de M...</td>\n",
       "    </tr>\n",
       "  </tbody>\n",
       "</table>\n",
       "<p>500 rows × 1 columns</p>\n",
       "</div>"
      ],
      "text/plain": [
       "                                                 tweet\n",
       "0    #Sismografo de la region del #Bíobío registran...\n",
       "1    Todo México al enterarse del fallecimiento de ...\n",
       "2    #Cultura | 🐶Murió Frida, famosa perra rescatis...\n",
       "3    @user @user Jajajaja\\nLa que generó junto con ...\n",
       "4    Muere Frida, perrita rescatista del sismo de 2...\n",
       "..                                                 ...\n",
       "495  #ÚLTIMAHORA SEMAR confirma muerte de Frida, la...\n",
       "496  También estubo en el terremoto del 2016 en Ecu...\n",
       "497  #ÚltimaHora🚨 Fallece perrita rescatista #Frida...\n",
       "498  La Secretaría de Marina (@SEMAR_mx) informó es...\n",
       "499  ¡SE FUE UNA HEROÍNA! 🙏🏻 \\n\\nLa Secretaría de M...\n",
       "\n",
       "[500 rows x 1 columns]"
      ]
     },
     "execution_count": 13,
     "metadata": {},
     "output_type": "execute_result"
    }
   ],
   "source": [
    "df_proc"
   ]
  },
  {
   "cell_type": "code",
   "execution_count": 16,
   "metadata": {},
   "outputs": [],
   "source": [
    "df['sentiment'] = df_proc.tweet.apply(sentiment_analysis) # creating a new field with the sentiment analysis results"
   ]
  },
  {
   "cell_type": "code",
   "execution_count": 19,
   "metadata": {},
   "outputs": [
    {
     "data": {
      "text/html": [
       "<div>\n",
       "<style scoped>\n",
       "    .dataframe tbody tr th:only-of-type {\n",
       "        vertical-align: middle;\n",
       "    }\n",
       "\n",
       "    .dataframe tbody tr th {\n",
       "        vertical-align: top;\n",
       "    }\n",
       "\n",
       "    .dataframe thead th {\n",
       "        text-align: right;\n",
       "    }\n",
       "</style>\n",
       "<table border=\"1\" class=\"dataframe\">\n",
       "  <thead>\n",
       "    <tr style=\"text-align: right;\">\n",
       "      <th></th>\n",
       "      <th>date</th>\n",
       "      <th>user</th>\n",
       "      <th>tweet</th>\n",
       "      <th>sentiment</th>\n",
       "    </tr>\n",
       "  </thead>\n",
       "  <tbody>\n",
       "    <tr>\n",
       "      <th>0</th>\n",
       "      <td>2022-11-15 23:59:51+00:00</td>\n",
       "      <td>ChileAlertaApp</td>\n",
       "      <td>#Sismografo de la region del #Bíobío registran...</td>\n",
       "      <td>Neutral</td>\n",
       "    </tr>\n",
       "    <tr>\n",
       "      <th>1</th>\n",
       "      <td>2022-11-15 23:59:44+00:00</td>\n",
       "      <td>Titanio_Records</td>\n",
       "      <td>Todo México al enterarse del fallecimiento de ...</td>\n",
       "      <td>Negative</td>\n",
       "    </tr>\n",
       "    <tr>\n",
       "      <th>2</th>\n",
       "      <td>2022-11-15 23:59:28+00:00</td>\n",
       "      <td>ElNuevoSiglo</td>\n",
       "      <td>#Cultura | 🐶Murió Frida, famosa perra rescatis...</td>\n",
       "      <td>Neutral</td>\n",
       "    </tr>\n",
       "    <tr>\n",
       "      <th>3</th>\n",
       "      <td>2022-11-15 23:58:55+00:00</td>\n",
       "      <td>Anabarent04</td>\n",
       "      <td>@PonchoGutz @DeniseMaerker Jajajaja\\nLa que ge...</td>\n",
       "      <td>Neutral</td>\n",
       "    </tr>\n",
       "    <tr>\n",
       "      <th>4</th>\n",
       "      <td>2022-11-15 23:58:43+00:00</td>\n",
       "      <td>gmldigital</td>\n",
       "      <td>Muere Frida, perrita rescatista del sismo de 2...</td>\n",
       "      <td>Neutral</td>\n",
       "    </tr>\n",
       "    <tr>\n",
       "      <th>...</th>\n",
       "      <td>...</td>\n",
       "      <td>...</td>\n",
       "      <td>...</td>\n",
       "      <td>...</td>\n",
       "    </tr>\n",
       "    <tr>\n",
       "      <th>495</th>\n",
       "      <td>2022-11-15 22:34:44+00:00</td>\n",
       "      <td>luisamiermx</td>\n",
       "      <td>#ÚLTIMAHORA SEMAR confirma muerte de Frida, la...</td>\n",
       "      <td>Neutral</td>\n",
       "    </tr>\n",
       "    <tr>\n",
       "      <th>496</th>\n",
       "      <td>2022-11-15 22:34:44+00:00</td>\n",
       "      <td>Carlosmont88</td>\n",
       "      <td>También estubo en el terremoto del 2016 en Ecu...</td>\n",
       "      <td>Neutral</td>\n",
       "    </tr>\n",
       "    <tr>\n",
       "      <th>497</th>\n",
       "      <td>2022-11-15 22:34:12+00:00</td>\n",
       "      <td>ElChisteDelSofa</td>\n",
       "      <td>#ÚltimaHora🚨 Fallece perrita rescatista #Frida...</td>\n",
       "      <td>Neutral</td>\n",
       "    </tr>\n",
       "    <tr>\n",
       "      <th>498</th>\n",
       "      <td>2022-11-15 22:34:11+00:00</td>\n",
       "      <td>AnitaLomeli</td>\n",
       "      <td>La Secretaría de Marina (@SEMAR_mx) informó es...</td>\n",
       "      <td>Neutral</td>\n",
       "    </tr>\n",
       "    <tr>\n",
       "      <th>499</th>\n",
       "      <td>2022-11-15 22:34:06+00:00</td>\n",
       "      <td>futbolerosofic</td>\n",
       "      <td>¡SE FUE UNA HEROÍNA! 🙏🏻 \\n\\nLa Secretaría de M...</td>\n",
       "      <td>Neutral</td>\n",
       "    </tr>\n",
       "  </tbody>\n",
       "</table>\n",
       "<p>500 rows × 4 columns</p>\n",
       "</div>"
      ],
      "text/plain": [
       "                          date             user  \\\n",
       "0    2022-11-15 23:59:51+00:00   ChileAlertaApp   \n",
       "1    2022-11-15 23:59:44+00:00  Titanio_Records   \n",
       "2    2022-11-15 23:59:28+00:00     ElNuevoSiglo   \n",
       "3    2022-11-15 23:58:55+00:00      Anabarent04   \n",
       "4    2022-11-15 23:58:43+00:00       gmldigital   \n",
       "..                         ...              ...   \n",
       "495  2022-11-15 22:34:44+00:00      luisamiermx   \n",
       "496  2022-11-15 22:34:44+00:00     Carlosmont88   \n",
       "497  2022-11-15 22:34:12+00:00  ElChisteDelSofa   \n",
       "498  2022-11-15 22:34:11+00:00      AnitaLomeli   \n",
       "499  2022-11-15 22:34:06+00:00   futbolerosofic   \n",
       "\n",
       "                                                 tweet sentiment  \n",
       "0    #Sismografo de la region del #Bíobío registran...   Neutral  \n",
       "1    Todo México al enterarse del fallecimiento de ...  Negative  \n",
       "2    #Cultura | 🐶Murió Frida, famosa perra rescatis...   Neutral  \n",
       "3    @PonchoGutz @DeniseMaerker Jajajaja\\nLa que ge...   Neutral  \n",
       "4    Muere Frida, perrita rescatista del sismo de 2...   Neutral  \n",
       "..                                                 ...       ...  \n",
       "495  #ÚLTIMAHORA SEMAR confirma muerte de Frida, la...   Neutral  \n",
       "496  También estubo en el terremoto del 2016 en Ecu...   Neutral  \n",
       "497  #ÚltimaHora🚨 Fallece perrita rescatista #Frida...   Neutral  \n",
       "498  La Secretaría de Marina (@SEMAR_mx) informó es...   Neutral  \n",
       "499  ¡SE FUE UNA HEROÍNA! 🙏🏻 \\n\\nLa Secretaría de M...   Neutral  \n",
       "\n",
       "[500 rows x 4 columns]"
      ]
     },
     "execution_count": 19,
     "metadata": {},
     "output_type": "execute_result"
    }
   ],
   "source": [
    "df"
   ]
  },
  {
   "cell_type": "code",
   "execution_count": 18,
   "metadata": {},
   "outputs": [
    {
     "data": {
      "text/plain": [
       "Neutral     456\n",
       "Positive     24\n",
       "Negative     20\n",
       "Name: sentiment, dtype: int64"
      ]
     },
     "execution_count": 18,
     "metadata": {},
     "output_type": "execute_result"
    }
   ],
   "source": [
    "df.sentiment.value_counts()"
   ]
  }
 ],
 "metadata": {
  "kernelspec": {
   "display_name": "Python 3.10.5 64-bit",
   "language": "python",
   "name": "python3"
  },
  "language_info": {
   "codemirror_mode": {
    "name": "ipython",
    "version": 3
   },
   "file_extension": ".py",
   "mimetype": "text/x-python",
   "name": "python",
   "nbconvert_exporter": "python",
   "pygments_lexer": "ipython3",
   "version": "3.10.5"
  },
  "orig_nbformat": 4,
  "vscode": {
   "interpreter": {
    "hash": "2efd9f29f17dafd1e01732ce528e1fd45416f34141c32d0e667b2a58f2e9bb04"
   }
  }
 },
 "nbformat": 4,
 "nbformat_minor": 2
}
