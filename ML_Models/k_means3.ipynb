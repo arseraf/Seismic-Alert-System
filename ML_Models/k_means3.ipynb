{
 "cells": [
  {
   "cell_type": "markdown",
   "metadata": {},
   "source": [
    "# Importing libraries"
   ]
  },
  {
   "cell_type": "code",
   "execution_count": 151,
   "metadata": {},
   "outputs": [],
   "source": [
    "from urllib.request import urlopen\n",
    "import json\n",
    "import pandas as pd\n",
    "import numpy as np\n",
    "import os\n",
    "import time\n",
    "from google.cloud import bigquery\n",
    "from datetime import datetime as dt\n",
    "from sklearn.preprocessing import StandardScaler\n",
    "from sklearn.cluster import KMeans\n",
    "from sklearn.decomposition import PCA\n",
    "import matplotlib.pyplot as plt\n",
    "from sklearn.metrics import silhouette_score"
   ]
  },
  {
   "cell_type": "markdown",
   "metadata": {},
   "source": [
    "# Fetching earthquake data from Data Warehouse"
   ]
  },
  {
   "cell_type": "code",
   "execution_count": 233,
   "metadata": {},
   "outputs": [],
   "source": [
    "os.environ['GOOGLE_APPLICATION_CREDENTIALS'] = 'seismic-alert-system-31876e79136b.json'\n",
    "client = bigquery.Client()\n",
    "\n",
    "sql_query = 'SELECT * FROM seismic-alert-system.seismic_datawarehouse.earthquake_deduped'\n",
    "\n",
    "query_job = client.query(sql_query)\n",
    "\n",
    "while query_job.state != 'DONE':\n",
    "    query_job.reload()\n",
    "    time.sleep(3)\n",
    "\n",
    "if query_job.state == 'DONE':\n",
    "    df = query_job.to_dataframe()\n",
    "else:\n",
    "    print(query_job.result())"
   ]
  },
  {
   "cell_type": "code",
   "execution_count": 206,
   "metadata": {},
   "outputs": [
    {
     "data": {
      "text/html": [
       "<div>\n",
       "<style scoped>\n",
       "    .dataframe tbody tr th:only-of-type {\n",
       "        vertical-align: middle;\n",
       "    }\n",
       "\n",
       "    .dataframe tbody tr th {\n",
       "        vertical-align: top;\n",
       "    }\n",
       "\n",
       "    .dataframe thead th {\n",
       "        text-align: right;\n",
       "    }\n",
       "</style>\n",
       "<table border=\"1\" class=\"dataframe\">\n",
       "  <thead>\n",
       "    <tr style=\"text-align: right;\">\n",
       "      <th></th>\n",
       "      <th>time</th>\n",
       "      <th>place</th>\n",
       "      <th>mag</th>\n",
       "      <th>magType</th>\n",
       "      <th>depth</th>\n",
       "      <th>latitude</th>\n",
       "      <th>longitude</th>\n",
       "    </tr>\n",
       "  </thead>\n",
       "  <tbody>\n",
       "    <tr>\n",
       "      <th>0</th>\n",
       "      <td>1998-04-29 20:13:23.150</td>\n",
       "      <td>19 km SE of It?, Japan</td>\n",
       "      <td>NaN</td>\n",
       "      <td>None</td>\n",
       "      <td>33.0</td>\n",
       "      <td>34.853</td>\n",
       "      <td>139.24</td>\n",
       "    </tr>\n",
       "    <tr>\n",
       "      <th>1</th>\n",
       "      <td>1985-09-26 13:24:46.030</td>\n",
       "      <td>5 km SE of Kawaguchi, Japan</td>\n",
       "      <td>NaN</td>\n",
       "      <td>None</td>\n",
       "      <td>33.0</td>\n",
       "      <td>35.773</td>\n",
       "      <td>139.752</td>\n",
       "    </tr>\n",
       "    <tr>\n",
       "      <th>2</th>\n",
       "      <td>1985-08-24 16:33:45.700</td>\n",
       "      <td>71 km NE of Hasaki, Japan</td>\n",
       "      <td>NaN</td>\n",
       "      <td>None</td>\n",
       "      <td>33.0</td>\n",
       "      <td>36.148</td>\n",
       "      <td>141.439</td>\n",
       "    </tr>\n",
       "    <tr>\n",
       "      <th>3</th>\n",
       "      <td>1977-10-29 19:17:34.600</td>\n",
       "      <td>9 km ENE of Funaishikawa, Japan</td>\n",
       "      <td>NaN</td>\n",
       "      <td>None</td>\n",
       "      <td>55.0</td>\n",
       "      <td>36.496</td>\n",
       "      <td>140.665</td>\n",
       "    </tr>\n",
       "    <tr>\n",
       "      <th>4</th>\n",
       "      <td>1999-04-27 21:53:55.770</td>\n",
       "      <td>2 km N of Machalí, Chile</td>\n",
       "      <td>NaN</td>\n",
       "      <td>None</td>\n",
       "      <td>95.8</td>\n",
       "      <td>-34.154</td>\n",
       "      <td>-70.646</td>\n",
       "    </tr>\n",
       "    <tr>\n",
       "      <th>...</th>\n",
       "      <td>...</td>\n",
       "      <td>...</td>\n",
       "      <td>...</td>\n",
       "      <td>...</td>\n",
       "      <td>...</td>\n",
       "      <td>...</td>\n",
       "      <td>...</td>\n",
       "    </tr>\n",
       "    <tr>\n",
       "      <th>83965</th>\n",
       "      <td>2016-01-14 03:25:33.640</td>\n",
       "      <td>52 km SE of Shizunai-furukawach?, Japan</td>\n",
       "      <td>6.7</td>\n",
       "      <td>mww</td>\n",
       "      <td>46.0</td>\n",
       "      <td>41.9723</td>\n",
       "      <td>142.781</td>\n",
       "    </tr>\n",
       "    <tr>\n",
       "      <th>83966</th>\n",
       "      <td>2015-09-17 04:10:27.780</td>\n",
       "      <td>61 km WNW of Illapel, Chile</td>\n",
       "      <td>6.7</td>\n",
       "      <td>mww</td>\n",
       "      <td>23.0</td>\n",
       "      <td>-31.5173</td>\n",
       "      <td>-71.804</td>\n",
       "    </tr>\n",
       "    <tr>\n",
       "      <th>83967</th>\n",
       "      <td>2014-03-16 21:16:29.600</td>\n",
       "      <td>63 km WNW of Iquique, Chile</td>\n",
       "      <td>6.7</td>\n",
       "      <td>mww</td>\n",
       "      <td>20.0</td>\n",
       "      <td>-19.9807</td>\n",
       "      <td>-70.7022</td>\n",
       "    </tr>\n",
       "    <tr>\n",
       "      <th>83968</th>\n",
       "      <td>2011-01-02 20:20:17.780</td>\n",
       "      <td>42 km NNW of Carahue, Chile</td>\n",
       "      <td>7.2</td>\n",
       "      <td>mww</td>\n",
       "      <td>24.0</td>\n",
       "      <td>-38.355</td>\n",
       "      <td>-73.326</td>\n",
       "    </tr>\n",
       "    <tr>\n",
       "      <th>83969</th>\n",
       "      <td>2014-04-03 02:43:13.110</td>\n",
       "      <td>53 km SW of Iquique, Chile</td>\n",
       "      <td>7.7</td>\n",
       "      <td>mww</td>\n",
       "      <td>22.4</td>\n",
       "      <td>-20.5709</td>\n",
       "      <td>-70.4931</td>\n",
       "    </tr>\n",
       "  </tbody>\n",
       "</table>\n",
       "<p>83970 rows × 7 columns</p>\n",
       "</div>"
      ],
      "text/plain": [
       "                         time                                    place  mag  \\\n",
       "0     1998-04-29 20:13:23.150                   19 km SE of It?, Japan  NaN   \n",
       "1     1985-09-26 13:24:46.030              5 km SE of Kawaguchi, Japan  NaN   \n",
       "2     1985-08-24 16:33:45.700                71 km NE of Hasaki, Japan  NaN   \n",
       "3     1977-10-29 19:17:34.600          9 km ENE of Funaishikawa, Japan  NaN   \n",
       "4     1999-04-27 21:53:55.770                 2 km N of Machalí, Chile  NaN   \n",
       "...                       ...                                      ...  ...   \n",
       "83965 2016-01-14 03:25:33.640  52 km SE of Shizunai-furukawach?, Japan  6.7   \n",
       "83966 2015-09-17 04:10:27.780              61 km WNW of Illapel, Chile  6.7   \n",
       "83967 2014-03-16 21:16:29.600              63 km WNW of Iquique, Chile  6.7   \n",
       "83968 2011-01-02 20:20:17.780              42 km NNW of Carahue, Chile  7.2   \n",
       "83969 2014-04-03 02:43:13.110               53 km SW of Iquique, Chile  7.7   \n",
       "\n",
       "      magType  depth  latitude longitude  \n",
       "0        None   33.0    34.853    139.24  \n",
       "1        None   33.0    35.773   139.752  \n",
       "2        None   33.0    36.148   141.439  \n",
       "3        None   55.0    36.496   140.665  \n",
       "4        None   95.8   -34.154   -70.646  \n",
       "...       ...    ...       ...       ...  \n",
       "83965     mww   46.0   41.9723   142.781  \n",
       "83966     mww   23.0  -31.5173   -71.804  \n",
       "83967     mww   20.0  -19.9807  -70.7022  \n",
       "83968     mww   24.0   -38.355   -73.326  \n",
       "83969     mww   22.4  -20.5709  -70.4931  \n",
       "\n",
       "[83970 rows x 7 columns]"
      ]
     },
     "execution_count": 206,
     "metadata": {},
     "output_type": "execute_result"
    }
   ],
   "source": [
    "df"
   ]
  },
  {
   "cell_type": "markdown",
   "metadata": {},
   "source": [
    "# Defining features"
   ]
  },
  {
   "cell_type": "markdown",
   "metadata": {},
   "source": [
    "We'll extract some features from the model, that being year, month and general location"
   ]
  },
  {
   "cell_type": "code",
   "execution_count": 234,
   "metadata": {},
   "outputs": [
    {
     "name": "stderr",
     "output_type": "stream",
     "text": [
      "C:\\Users\\Auli\\AppData\\Local\\Temp\\ipykernel_9072\\2334046914.py:4: FutureWarning: In a future version of pandas all arguments of StringMethods.split except for the argument 'pat' will be keyword-only.\n",
      "  df[['km', 'location']] = df['place'].str.split(',', 1, expand=True) # spliting the region from the aproximate location\n"
     ]
    }
   ],
   "source": [
    "df['year'] = df.time.dt.year # Creating a year feature\n",
    "df['month'] = df.time.dt.month # Creating a month feature\n",
    "df.drop(columns=['time', 'year'], inplace=True) \n",
    "df[['km', 'location']] = df['place'].str.split(',', 1, expand=True) # spliting the region from the aproximate location\n",
    "df.location.fillna(df.km[df.km.str.contains('km') == False], inplace=True) # Filling the locations that didn't had km aproximations\n",
    "no_location = df[df.location.isna()].index\n",
    "df.drop(no_location, inplace=True)\n",
    "df.drop(columns=['place'], inplace=True)"
   ]
  },
  {
   "cell_type": "markdown",
   "metadata": {},
   "source": [
    "Features to use"
   ]
  },
  {
   "cell_type": "code",
   "execution_count": 235,
   "metadata": {},
   "outputs": [],
   "source": [
    "df = df[['mag', 'depth']]"
   ]
  },
  {
   "cell_type": "code",
   "execution_count": 236,
   "metadata": {},
   "outputs": [
    {
     "data": {
      "text/html": [
       "<div>\n",
       "<style scoped>\n",
       "    .dataframe tbody tr th:only-of-type {\n",
       "        vertical-align: middle;\n",
       "    }\n",
       "\n",
       "    .dataframe tbody tr th {\n",
       "        vertical-align: top;\n",
       "    }\n",
       "\n",
       "    .dataframe thead th {\n",
       "        text-align: right;\n",
       "    }\n",
       "</style>\n",
       "<table border=\"1\" class=\"dataframe\">\n",
       "  <thead>\n",
       "    <tr style=\"text-align: right;\">\n",
       "      <th></th>\n",
       "      <th>mag</th>\n",
       "      <th>depth</th>\n",
       "    </tr>\n",
       "  </thead>\n",
       "  <tbody>\n",
       "    <tr>\n",
       "      <th>0</th>\n",
       "      <td>NaN</td>\n",
       "      <td>33.0</td>\n",
       "    </tr>\n",
       "    <tr>\n",
       "      <th>1</th>\n",
       "      <td>NaN</td>\n",
       "      <td>33.0</td>\n",
       "    </tr>\n",
       "    <tr>\n",
       "      <th>2</th>\n",
       "      <td>NaN</td>\n",
       "      <td>33.0</td>\n",
       "    </tr>\n",
       "    <tr>\n",
       "      <th>3</th>\n",
       "      <td>NaN</td>\n",
       "      <td>55.0</td>\n",
       "    </tr>\n",
       "    <tr>\n",
       "      <th>4</th>\n",
       "      <td>NaN</td>\n",
       "      <td>95.8</td>\n",
       "    </tr>\n",
       "    <tr>\n",
       "      <th>...</th>\n",
       "      <td>...</td>\n",
       "      <td>...</td>\n",
       "    </tr>\n",
       "    <tr>\n",
       "      <th>83965</th>\n",
       "      <td>6.7</td>\n",
       "      <td>46.0</td>\n",
       "    </tr>\n",
       "    <tr>\n",
       "      <th>83966</th>\n",
       "      <td>6.7</td>\n",
       "      <td>23.0</td>\n",
       "    </tr>\n",
       "    <tr>\n",
       "      <th>83967</th>\n",
       "      <td>6.7</td>\n",
       "      <td>20.0</td>\n",
       "    </tr>\n",
       "    <tr>\n",
       "      <th>83968</th>\n",
       "      <td>7.2</td>\n",
       "      <td>24.0</td>\n",
       "    </tr>\n",
       "    <tr>\n",
       "      <th>83969</th>\n",
       "      <td>7.7</td>\n",
       "      <td>22.4</td>\n",
       "    </tr>\n",
       "  </tbody>\n",
       "</table>\n",
       "<p>83864 rows × 2 columns</p>\n",
       "</div>"
      ],
      "text/plain": [
       "       mag  depth\n",
       "0      NaN   33.0\n",
       "1      NaN   33.0\n",
       "2      NaN   33.0\n",
       "3      NaN   55.0\n",
       "4      NaN   95.8\n",
       "...    ...    ...\n",
       "83965  6.7   46.0\n",
       "83966  6.7   23.0\n",
       "83967  6.7   20.0\n",
       "83968  7.2   24.0\n",
       "83969  7.7   22.4\n",
       "\n",
       "[83864 rows x 2 columns]"
      ]
     },
     "execution_count": 236,
     "metadata": {},
     "output_type": "execute_result"
    }
   ],
   "source": [
    "df"
   ]
  },
  {
   "cell_type": "markdown",
   "metadata": {},
   "source": [
    "Replacing empty values and filling missing locations"
   ]
  },
  {
   "cell_type": "code",
   "execution_count": 10,
   "metadata": {},
   "outputs": [],
   "source": [
    "df.location.replace(' ', '', inplace=True)\n",
    "df.location.replace(' CA', 'California', inplace=True)\n",
    "df.location.fillna(df.km[df.km.str.contains('km') == False], inplace=True)\n",
    "no_location = df[df.location.isna()].index\n",
    "df.drop(no_location, inplace=True)"
   ]
  },
  {
   "cell_type": "code",
   "execution_count": 11,
   "metadata": {},
   "outputs": [
    {
     "data": {
      "text/plain": [
       "0.0"
      ]
     },
     "execution_count": 11,
     "metadata": {},
     "output_type": "execute_result"
    }
   ],
   "source": [
    "df.location.isna().sum()*100/len(df)"
   ]
  },
  {
   "cell_type": "code",
   "execution_count": 12,
   "metadata": {},
   "outputs": [],
   "source": [
    "df.drop(columns='km', inplace=True) # Dropping the 'km' field since it's not useful anymore"
   ]
  },
  {
   "cell_type": "code",
   "execution_count": 237,
   "metadata": {},
   "outputs": [],
   "source": [
    "df.depth = round(df.depth,1) # Rounding the depth as to 1 decimal"
   ]
  },
  {
   "cell_type": "code",
   "execution_count": 238,
   "metadata": {},
   "outputs": [
    {
     "data": {
      "text/html": [
       "<div>\n",
       "<style scoped>\n",
       "    .dataframe tbody tr th:only-of-type {\n",
       "        vertical-align: middle;\n",
       "    }\n",
       "\n",
       "    .dataframe tbody tr th {\n",
       "        vertical-align: top;\n",
       "    }\n",
       "\n",
       "    .dataframe thead th {\n",
       "        text-align: right;\n",
       "    }\n",
       "</style>\n",
       "<table border=\"1\" class=\"dataframe\">\n",
       "  <thead>\n",
       "    <tr style=\"text-align: right;\">\n",
       "      <th></th>\n",
       "      <th>mag</th>\n",
       "      <th>depth</th>\n",
       "    </tr>\n",
       "  </thead>\n",
       "  <tbody>\n",
       "    <tr>\n",
       "      <th>0</th>\n",
       "      <td>NaN</td>\n",
       "      <td>33.0</td>\n",
       "    </tr>\n",
       "    <tr>\n",
       "      <th>1</th>\n",
       "      <td>NaN</td>\n",
       "      <td>33.0</td>\n",
       "    </tr>\n",
       "    <tr>\n",
       "      <th>2</th>\n",
       "      <td>NaN</td>\n",
       "      <td>33.0</td>\n",
       "    </tr>\n",
       "    <tr>\n",
       "      <th>3</th>\n",
       "      <td>NaN</td>\n",
       "      <td>55.0</td>\n",
       "    </tr>\n",
       "    <tr>\n",
       "      <th>4</th>\n",
       "      <td>NaN</td>\n",
       "      <td>95.8</td>\n",
       "    </tr>\n",
       "    <tr>\n",
       "      <th>...</th>\n",
       "      <td>...</td>\n",
       "      <td>...</td>\n",
       "    </tr>\n",
       "    <tr>\n",
       "      <th>83965</th>\n",
       "      <td>6.7</td>\n",
       "      <td>46.0</td>\n",
       "    </tr>\n",
       "    <tr>\n",
       "      <th>83966</th>\n",
       "      <td>6.7</td>\n",
       "      <td>23.0</td>\n",
       "    </tr>\n",
       "    <tr>\n",
       "      <th>83967</th>\n",
       "      <td>6.7</td>\n",
       "      <td>20.0</td>\n",
       "    </tr>\n",
       "    <tr>\n",
       "      <th>83968</th>\n",
       "      <td>7.2</td>\n",
       "      <td>24.0</td>\n",
       "    </tr>\n",
       "    <tr>\n",
       "      <th>83969</th>\n",
       "      <td>7.7</td>\n",
       "      <td>22.4</td>\n",
       "    </tr>\n",
       "  </tbody>\n",
       "</table>\n",
       "<p>83864 rows × 2 columns</p>\n",
       "</div>"
      ],
      "text/plain": [
       "       mag  depth\n",
       "0      NaN   33.0\n",
       "1      NaN   33.0\n",
       "2      NaN   33.0\n",
       "3      NaN   55.0\n",
       "4      NaN   95.8\n",
       "...    ...    ...\n",
       "83965  6.7   46.0\n",
       "83966  6.7   23.0\n",
       "83967  6.7   20.0\n",
       "83968  7.2   24.0\n",
       "83969  7.7   22.4\n",
       "\n",
       "[83864 rows x 2 columns]"
      ]
     },
     "execution_count": 238,
     "metadata": {},
     "output_type": "execute_result"
    }
   ],
   "source": [
    "df"
   ]
  },
  {
   "cell_type": "markdown",
   "metadata": {},
   "source": [
    "Filling missing values"
   ]
  },
  {
   "cell_type": "code",
   "execution_count": 81,
   "metadata": {},
   "outputs": [
    {
     "data": {
      "text/plain": [
       "mag      13.852566\n",
       "depth     0.000000\n",
       "dtype: float64"
      ]
     },
     "execution_count": 81,
     "metadata": {},
     "output_type": "execute_result"
    }
   ],
   "source": [
    "df.isna().sum()*100/len(df) # mag and magType have around %15 percent of missing values, since it's under the %25 percent, there'll be filled"
   ]
  },
  {
   "cell_type": "code",
   "execution_count": 239,
   "metadata": {},
   "outputs": [],
   "source": [
    "df.mag.fillna(df.mag.mean(), inplace=True) # Filling the mag values with the mean of the field\n",
    "#df.magType.fillna(df.magType.mode()[0], inplace=True) # Filling the magType values with the mode"
   ]
  },
  {
   "cell_type": "code",
   "execution_count": 240,
   "metadata": {},
   "outputs": [
    {
     "data": {
      "text/plain": [
       "mag      0.0\n",
       "depth    0.0\n",
       "dtype: float64"
      ]
     },
     "execution_count": 240,
     "metadata": {},
     "output_type": "execute_result"
    }
   ],
   "source": [
    "df.isna().sum()*100/len(df)"
   ]
  },
  {
   "cell_type": "code",
   "execution_count": 241,
   "metadata": {},
   "outputs": [
    {
     "data": {
      "text/html": [
       "<div>\n",
       "<style scoped>\n",
       "    .dataframe tbody tr th:only-of-type {\n",
       "        vertical-align: middle;\n",
       "    }\n",
       "\n",
       "    .dataframe tbody tr th {\n",
       "        vertical-align: top;\n",
       "    }\n",
       "\n",
       "    .dataframe thead th {\n",
       "        text-align: right;\n",
       "    }\n",
       "</style>\n",
       "<table border=\"1\" class=\"dataframe\">\n",
       "  <thead>\n",
       "    <tr style=\"text-align: right;\">\n",
       "      <th></th>\n",
       "      <th>mag</th>\n",
       "      <th>depth</th>\n",
       "    </tr>\n",
       "  </thead>\n",
       "  <tbody>\n",
       "    <tr>\n",
       "      <th>0</th>\n",
       "      <td>4.057238</td>\n",
       "      <td>33.0</td>\n",
       "    </tr>\n",
       "    <tr>\n",
       "      <th>1</th>\n",
       "      <td>4.057238</td>\n",
       "      <td>33.0</td>\n",
       "    </tr>\n",
       "    <tr>\n",
       "      <th>2</th>\n",
       "      <td>4.057238</td>\n",
       "      <td>33.0</td>\n",
       "    </tr>\n",
       "    <tr>\n",
       "      <th>3</th>\n",
       "      <td>4.057238</td>\n",
       "      <td>55.0</td>\n",
       "    </tr>\n",
       "    <tr>\n",
       "      <th>4</th>\n",
       "      <td>4.057238</td>\n",
       "      <td>95.8</td>\n",
       "    </tr>\n",
       "    <tr>\n",
       "      <th>...</th>\n",
       "      <td>...</td>\n",
       "      <td>...</td>\n",
       "    </tr>\n",
       "    <tr>\n",
       "      <th>83965</th>\n",
       "      <td>6.700000</td>\n",
       "      <td>46.0</td>\n",
       "    </tr>\n",
       "    <tr>\n",
       "      <th>83966</th>\n",
       "      <td>6.700000</td>\n",
       "      <td>23.0</td>\n",
       "    </tr>\n",
       "    <tr>\n",
       "      <th>83967</th>\n",
       "      <td>6.700000</td>\n",
       "      <td>20.0</td>\n",
       "    </tr>\n",
       "    <tr>\n",
       "      <th>83968</th>\n",
       "      <td>7.200000</td>\n",
       "      <td>24.0</td>\n",
       "    </tr>\n",
       "    <tr>\n",
       "      <th>83969</th>\n",
       "      <td>7.700000</td>\n",
       "      <td>22.4</td>\n",
       "    </tr>\n",
       "  </tbody>\n",
       "</table>\n",
       "<p>83864 rows × 2 columns</p>\n",
       "</div>"
      ],
      "text/plain": [
       "            mag  depth\n",
       "0      4.057238   33.0\n",
       "1      4.057238   33.0\n",
       "2      4.057238   33.0\n",
       "3      4.057238   55.0\n",
       "4      4.057238   95.8\n",
       "...         ...    ...\n",
       "83965  6.700000   46.0\n",
       "83966  6.700000   23.0\n",
       "83967  6.700000   20.0\n",
       "83968  7.200000   24.0\n",
       "83969  7.700000   22.4\n",
       "\n",
       "[83864 rows x 2 columns]"
      ]
     },
     "execution_count": 241,
     "metadata": {},
     "output_type": "execute_result"
    }
   ],
   "source": [
    "df"
   ]
  },
  {
   "cell_type": "markdown",
   "metadata": {},
   "source": [
    "# Machine learning process"
   ]
  },
  {
   "cell_type": "markdown",
   "metadata": {},
   "source": [
    "## Trying to find the best features"
   ]
  },
  {
   "cell_type": "markdown",
   "metadata": {},
   "source": [
    "Preprocessing"
   ]
  },
  {
   "cell_type": "code",
   "execution_count": 242,
   "metadata": {},
   "outputs": [
    {
     "data": {
      "text/plain": [
       "mag      float64\n",
       "depth    float64\n",
       "dtype: object"
      ]
     },
     "execution_count": 242,
     "metadata": {},
     "output_type": "execute_result"
    }
   ],
   "source": [
    "df.dtypes # We should encode the objects values and convert the coordinates to float"
   ]
  },
  {
   "cell_type": "code",
   "execution_count": 215,
   "metadata": {},
   "outputs": [
    {
     "name": "stderr",
     "output_type": "stream",
     "text": [
      "C:\\Users\\Auli\\AppData\\Local\\Temp\\ipykernel_9072\\185884544.py:1: SettingWithCopyWarning: \n",
      "A value is trying to be set on a copy of a slice from a DataFrame.\n",
      "Try using .loc[row_indexer,col_indexer] = value instead\n",
      "\n",
      "See the caveats in the documentation: https://pandas.pydata.org/pandas-docs/stable/user_guide/indexing.html#returning-a-view-versus-a-copy\n",
      "  df.latitude = df.latitude.astype(float)\n",
      "C:\\Users\\Auli\\AppData\\Local\\Temp\\ipykernel_9072\\185884544.py:2: SettingWithCopyWarning: \n",
      "A value is trying to be set on a copy of a slice from a DataFrame.\n",
      "Try using .loc[row_indexer,col_indexer] = value instead\n",
      "\n",
      "See the caveats in the documentation: https://pandas.pydata.org/pandas-docs/stable/user_guide/indexing.html#returning-a-view-versus-a-copy\n",
      "  df.longitude = df.longitude.astype(float)\n"
     ]
    }
   ],
   "source": [
    "df.latitude = df.latitude.astype(float)\n",
    "df.longitude = df.longitude.astype(float)"
   ]
  },
  {
   "cell_type": "markdown",
   "metadata": {},
   "source": [
    "One hot encoding function"
   ]
  },
  {
   "cell_type": "code",
   "execution_count": 46,
   "metadata": {},
   "outputs": [],
   "source": [
    "def one_hot_encode(df, columns, prefixes):\n",
    "    df = df.copy()\n",
    "    for column, prefix in zip(columns, prefixes):\n",
    "        dummies = pd.get_dummies(df[column], prefix=prefix)\n",
    "        df = pd.concat([df, dummies], axis=1)\n",
    "        df = df.drop(column, axis=1)\n",
    "    return df"
   ]
  },
  {
   "cell_type": "code",
   "execution_count": 49,
   "metadata": {},
   "outputs": [
    {
     "data": {
      "text/html": [
       "<div>\n",
       "<style scoped>\n",
       "    .dataframe tbody tr th:only-of-type {\n",
       "        vertical-align: middle;\n",
       "    }\n",
       "\n",
       "    .dataframe tbody tr th {\n",
       "        vertical-align: top;\n",
       "    }\n",
       "\n",
       "    .dataframe thead th {\n",
       "        text-align: right;\n",
       "    }\n",
       "</style>\n",
       "<table border=\"1\" class=\"dataframe\">\n",
       "  <thead>\n",
       "    <tr style=\"text-align: right;\">\n",
       "      <th></th>\n",
       "      <th>mag</th>\n",
       "      <th>depth</th>\n",
       "      <th>latitude</th>\n",
       "      <th>longitude</th>\n",
       "      <th>month</th>\n",
       "      <th>magT_Mb</th>\n",
       "      <th>magT_Ml</th>\n",
       "      <th>magT_m</th>\n",
       "      <th>magT_mb</th>\n",
       "      <th>magT_md</th>\n",
       "      <th>...</th>\n",
       "      <th>loc_South Sandwich Islands region</th>\n",
       "      <th>loc_Southern Alaska</th>\n",
       "      <th>loc_Utah</th>\n",
       "      <th>loc_eastern Sea of Japan</th>\n",
       "      <th>loc_near the coast of central Chile</th>\n",
       "      <th>loc_northern Alaska</th>\n",
       "      <th>loc_northern Colombia</th>\n",
       "      <th>loc_south of the Fiji Islands</th>\n",
       "      <th>loc_southEste de Isla de Pascua - Chile</th>\n",
       "      <th>loc_west of Vancouver Island</th>\n",
       "    </tr>\n",
       "  </thead>\n",
       "  <tbody>\n",
       "    <tr>\n",
       "      <th>0</th>\n",
       "      <td>4.057238</td>\n",
       "      <td>33.0</td>\n",
       "      <td>-27.3340</td>\n",
       "      <td>-71.9000</td>\n",
       "      <td>6</td>\n",
       "      <td>0</td>\n",
       "      <td>0</td>\n",
       "      <td>0</td>\n",
       "      <td>1</td>\n",
       "      <td>0</td>\n",
       "      <td>...</td>\n",
       "      <td>0</td>\n",
       "      <td>0</td>\n",
       "      <td>0</td>\n",
       "      <td>0</td>\n",
       "      <td>0</td>\n",
       "      <td>0</td>\n",
       "      <td>0</td>\n",
       "      <td>0</td>\n",
       "      <td>0</td>\n",
       "      <td>0</td>\n",
       "    </tr>\n",
       "    <tr>\n",
       "      <th>1</th>\n",
       "      <td>4.057238</td>\n",
       "      <td>60.5</td>\n",
       "      <td>-33.8130</td>\n",
       "      <td>-71.2420</td>\n",
       "      <td>6</td>\n",
       "      <td>0</td>\n",
       "      <td>0</td>\n",
       "      <td>0</td>\n",
       "      <td>1</td>\n",
       "      <td>0</td>\n",
       "      <td>...</td>\n",
       "      <td>0</td>\n",
       "      <td>0</td>\n",
       "      <td>0</td>\n",
       "      <td>0</td>\n",
       "      <td>0</td>\n",
       "      <td>0</td>\n",
       "      <td>0</td>\n",
       "      <td>0</td>\n",
       "      <td>0</td>\n",
       "      <td>0</td>\n",
       "    </tr>\n",
       "    <tr>\n",
       "      <th>2</th>\n",
       "      <td>4.057238</td>\n",
       "      <td>33.0</td>\n",
       "      <td>35.7120</td>\n",
       "      <td>140.1670</td>\n",
       "      <td>5</td>\n",
       "      <td>0</td>\n",
       "      <td>0</td>\n",
       "      <td>0</td>\n",
       "      <td>1</td>\n",
       "      <td>0</td>\n",
       "      <td>...</td>\n",
       "      <td>0</td>\n",
       "      <td>0</td>\n",
       "      <td>0</td>\n",
       "      <td>0</td>\n",
       "      <td>0</td>\n",
       "      <td>0</td>\n",
       "      <td>0</td>\n",
       "      <td>0</td>\n",
       "      <td>0</td>\n",
       "      <td>0</td>\n",
       "    </tr>\n",
       "    <tr>\n",
       "      <th>3</th>\n",
       "      <td>4.057238</td>\n",
       "      <td>10.0</td>\n",
       "      <td>34.0120</td>\n",
       "      <td>139.1990</td>\n",
       "      <td>7</td>\n",
       "      <td>0</td>\n",
       "      <td>0</td>\n",
       "      <td>0</td>\n",
       "      <td>1</td>\n",
       "      <td>0</td>\n",
       "      <td>...</td>\n",
       "      <td>0</td>\n",
       "      <td>0</td>\n",
       "      <td>0</td>\n",
       "      <td>0</td>\n",
       "      <td>0</td>\n",
       "      <td>0</td>\n",
       "      <td>0</td>\n",
       "      <td>0</td>\n",
       "      <td>0</td>\n",
       "      <td>0</td>\n",
       "    </tr>\n",
       "    <tr>\n",
       "      <th>4</th>\n",
       "      <td>4.057238</td>\n",
       "      <td>119.8</td>\n",
       "      <td>-33.7240</td>\n",
       "      <td>-70.2880</td>\n",
       "      <td>6</td>\n",
       "      <td>0</td>\n",
       "      <td>0</td>\n",
       "      <td>0</td>\n",
       "      <td>1</td>\n",
       "      <td>0</td>\n",
       "      <td>...</td>\n",
       "      <td>0</td>\n",
       "      <td>0</td>\n",
       "      <td>0</td>\n",
       "      <td>0</td>\n",
       "      <td>0</td>\n",
       "      <td>0</td>\n",
       "      <td>0</td>\n",
       "      <td>0</td>\n",
       "      <td>0</td>\n",
       "      <td>0</td>\n",
       "    </tr>\n",
       "    <tr>\n",
       "      <th>...</th>\n",
       "      <td>...</td>\n",
       "      <td>...</td>\n",
       "      <td>...</td>\n",
       "      <td>...</td>\n",
       "      <td>...</td>\n",
       "      <td>...</td>\n",
       "      <td>...</td>\n",
       "      <td>...</td>\n",
       "      <td>...</td>\n",
       "      <td>...</td>\n",
       "      <td>...</td>\n",
       "      <td>...</td>\n",
       "      <td>...</td>\n",
       "      <td>...</td>\n",
       "      <td>...</td>\n",
       "      <td>...</td>\n",
       "      <td>...</td>\n",
       "      <td>...</td>\n",
       "      <td>...</td>\n",
       "      <td>...</td>\n",
       "      <td>...</td>\n",
       "    </tr>\n",
       "    <tr>\n",
       "      <th>83965</th>\n",
       "      <td>6.700000</td>\n",
       "      <td>33.0</td>\n",
       "      <td>39.9550</td>\n",
       "      <td>142.2050</td>\n",
       "      <td>6</td>\n",
       "      <td>0</td>\n",
       "      <td>0</td>\n",
       "      <td>0</td>\n",
       "      <td>0</td>\n",
       "      <td>0</td>\n",
       "      <td>...</td>\n",
       "      <td>0</td>\n",
       "      <td>0</td>\n",
       "      <td>0</td>\n",
       "      <td>0</td>\n",
       "      <td>0</td>\n",
       "      <td>0</td>\n",
       "      <td>0</td>\n",
       "      <td>0</td>\n",
       "      <td>0</td>\n",
       "      <td>0</td>\n",
       "    </tr>\n",
       "    <tr>\n",
       "      <th>83966</th>\n",
       "      <td>6.700000</td>\n",
       "      <td>46.0</td>\n",
       "      <td>41.9723</td>\n",
       "      <td>142.7810</td>\n",
       "      <td>1</td>\n",
       "      <td>0</td>\n",
       "      <td>0</td>\n",
       "      <td>0</td>\n",
       "      <td>0</td>\n",
       "      <td>0</td>\n",
       "      <td>...</td>\n",
       "      <td>0</td>\n",
       "      <td>0</td>\n",
       "      <td>0</td>\n",
       "      <td>0</td>\n",
       "      <td>0</td>\n",
       "      <td>0</td>\n",
       "      <td>0</td>\n",
       "      <td>0</td>\n",
       "      <td>0</td>\n",
       "      <td>0</td>\n",
       "    </tr>\n",
       "    <tr>\n",
       "      <th>83967</th>\n",
       "      <td>6.700000</td>\n",
       "      <td>23.0</td>\n",
       "      <td>39.8558</td>\n",
       "      <td>142.8808</td>\n",
       "      <td>2</td>\n",
       "      <td>0</td>\n",
       "      <td>0</td>\n",
       "      <td>0</td>\n",
       "      <td>0</td>\n",
       "      <td>0</td>\n",
       "      <td>...</td>\n",
       "      <td>0</td>\n",
       "      <td>0</td>\n",
       "      <td>0</td>\n",
       "      <td>0</td>\n",
       "      <td>0</td>\n",
       "      <td>0</td>\n",
       "      <td>0</td>\n",
       "      <td>0</td>\n",
       "      <td>0</td>\n",
       "      <td>0</td>\n",
       "    </tr>\n",
       "    <tr>\n",
       "      <th>83968</th>\n",
       "      <td>7.200000</td>\n",
       "      <td>24.0</td>\n",
       "      <td>-38.3550</td>\n",
       "      <td>-73.3260</td>\n",
       "      <td>1</td>\n",
       "      <td>0</td>\n",
       "      <td>0</td>\n",
       "      <td>0</td>\n",
       "      <td>0</td>\n",
       "      <td>0</td>\n",
       "      <td>...</td>\n",
       "      <td>0</td>\n",
       "      <td>0</td>\n",
       "      <td>0</td>\n",
       "      <td>0</td>\n",
       "      <td>0</td>\n",
       "      <td>0</td>\n",
       "      <td>0</td>\n",
       "      <td>0</td>\n",
       "      <td>0</td>\n",
       "      <td>0</td>\n",
       "    </tr>\n",
       "    <tr>\n",
       "      <th>83969</th>\n",
       "      <td>7.700000</td>\n",
       "      <td>22.4</td>\n",
       "      <td>-20.5709</td>\n",
       "      <td>-70.4931</td>\n",
       "      <td>4</td>\n",
       "      <td>0</td>\n",
       "      <td>0</td>\n",
       "      <td>0</td>\n",
       "      <td>0</td>\n",
       "      <td>0</td>\n",
       "      <td>...</td>\n",
       "      <td>0</td>\n",
       "      <td>0</td>\n",
       "      <td>0</td>\n",
       "      <td>0</td>\n",
       "      <td>0</td>\n",
       "      <td>0</td>\n",
       "      <td>0</td>\n",
       "      <td>0</td>\n",
       "      <td>0</td>\n",
       "      <td>0</td>\n",
       "    </tr>\n",
       "  </tbody>\n",
       "</table>\n",
       "<p>83864 rows × 73 columns</p>\n",
       "</div>"
      ],
      "text/plain": [
       "            mag  depth  latitude  longitude  month  magT_Mb  magT_Ml  magT_m  \\\n",
       "0      4.057238   33.0  -27.3340   -71.9000      6        0        0       0   \n",
       "1      4.057238   60.5  -33.8130   -71.2420      6        0        0       0   \n",
       "2      4.057238   33.0   35.7120   140.1670      5        0        0       0   \n",
       "3      4.057238   10.0   34.0120   139.1990      7        0        0       0   \n",
       "4      4.057238  119.8  -33.7240   -70.2880      6        0        0       0   \n",
       "...         ...    ...       ...        ...    ...      ...      ...     ...   \n",
       "83965  6.700000   33.0   39.9550   142.2050      6        0        0       0   \n",
       "83966  6.700000   46.0   41.9723   142.7810      1        0        0       0   \n",
       "83967  6.700000   23.0   39.8558   142.8808      2        0        0       0   \n",
       "83968  7.200000   24.0  -38.3550   -73.3260      1        0        0       0   \n",
       "83969  7.700000   22.4  -20.5709   -70.4931      4        0        0       0   \n",
       "\n",
       "       magT_mb  magT_md  ...  loc_South Sandwich Islands region  \\\n",
       "0            1        0  ...                                  0   \n",
       "1            1        0  ...                                  0   \n",
       "2            1        0  ...                                  0   \n",
       "3            1        0  ...                                  0   \n",
       "4            1        0  ...                                  0   \n",
       "...        ...      ...  ...                                ...   \n",
       "83965        0        0  ...                                  0   \n",
       "83966        0        0  ...                                  0   \n",
       "83967        0        0  ...                                  0   \n",
       "83968        0        0  ...                                  0   \n",
       "83969        0        0  ...                                  0   \n",
       "\n",
       "       loc_Southern Alaska  loc_Utah  loc_eastern Sea of Japan  \\\n",
       "0                        0         0                         0   \n",
       "1                        0         0                         0   \n",
       "2                        0         0                         0   \n",
       "3                        0         0                         0   \n",
       "4                        0         0                         0   \n",
       "...                    ...       ...                       ...   \n",
       "83965                    0         0                         0   \n",
       "83966                    0         0                         0   \n",
       "83967                    0         0                         0   \n",
       "83968                    0         0                         0   \n",
       "83969                    0         0                         0   \n",
       "\n",
       "       loc_near the coast of central Chile  loc_northern Alaska  \\\n",
       "0                                        0                    0   \n",
       "1                                        0                    0   \n",
       "2                                        0                    0   \n",
       "3                                        0                    0   \n",
       "4                                        0                    0   \n",
       "...                                    ...                  ...   \n",
       "83965                                    0                    0   \n",
       "83966                                    0                    0   \n",
       "83967                                    0                    0   \n",
       "83968                                    0                    0   \n",
       "83969                                    0                    0   \n",
       "\n",
       "       loc_northern Colombia  loc_south of the Fiji Islands  \\\n",
       "0                          0                              0   \n",
       "1                          0                              0   \n",
       "2                          0                              0   \n",
       "3                          0                              0   \n",
       "4                          0                              0   \n",
       "...                      ...                            ...   \n",
       "83965                      0                              0   \n",
       "83966                      0                              0   \n",
       "83967                      0                              0   \n",
       "83968                      0                              0   \n",
       "83969                      0                              0   \n",
       "\n",
       "       loc_southEste de Isla de Pascua - Chile  loc_west of Vancouver Island  \n",
       "0                                            0                             0  \n",
       "1                                            0                             0  \n",
       "2                                            0                             0  \n",
       "3                                            0                             0  \n",
       "4                                            0                             0  \n",
       "...                                        ...                           ...  \n",
       "83965                                        0                             0  \n",
       "83966                                        0                             0  \n",
       "83967                                        0                             0  \n",
       "83968                                        0                             0  \n",
       "83969                                        0                             0  \n",
       "\n",
       "[83864 rows x 73 columns]"
      ]
     },
     "execution_count": 49,
     "metadata": {},
     "output_type": "execute_result"
    }
   ],
   "source": [
    "data = one_hot_encode(df, ['magType', 'location'], ['magT', 'loc'])\n",
    "data # Encoded data"
   ]
  },
  {
   "cell_type": "markdown",
   "metadata": {},
   "source": [
    "# Scaling"
   ]
  },
  {
   "cell_type": "code",
   "execution_count": 243,
   "metadata": {},
   "outputs": [],
   "source": [
    "X = df.copy()"
   ]
  },
  {
   "cell_type": "code",
   "execution_count": 244,
   "metadata": {},
   "outputs": [
    {
     "data": {
      "text/html": [
       "<div>\n",
       "<style scoped>\n",
       "    .dataframe tbody tr th:only-of-type {\n",
       "        vertical-align: middle;\n",
       "    }\n",
       "\n",
       "    .dataframe tbody tr th {\n",
       "        vertical-align: top;\n",
       "    }\n",
       "\n",
       "    .dataframe thead th {\n",
       "        text-align: right;\n",
       "    }\n",
       "</style>\n",
       "<table border=\"1\" class=\"dataframe\">\n",
       "  <thead>\n",
       "    <tr style=\"text-align: right;\">\n",
       "      <th></th>\n",
       "      <th>mag</th>\n",
       "      <th>depth</th>\n",
       "    </tr>\n",
       "  </thead>\n",
       "  <tbody>\n",
       "    <tr>\n",
       "      <th>0</th>\n",
       "      <td>4.057238</td>\n",
       "      <td>33.0</td>\n",
       "    </tr>\n",
       "    <tr>\n",
       "      <th>1</th>\n",
       "      <td>4.057238</td>\n",
       "      <td>33.0</td>\n",
       "    </tr>\n",
       "    <tr>\n",
       "      <th>2</th>\n",
       "      <td>4.057238</td>\n",
       "      <td>33.0</td>\n",
       "    </tr>\n",
       "    <tr>\n",
       "      <th>3</th>\n",
       "      <td>4.057238</td>\n",
       "      <td>55.0</td>\n",
       "    </tr>\n",
       "    <tr>\n",
       "      <th>4</th>\n",
       "      <td>4.057238</td>\n",
       "      <td>95.8</td>\n",
       "    </tr>\n",
       "    <tr>\n",
       "      <th>...</th>\n",
       "      <td>...</td>\n",
       "      <td>...</td>\n",
       "    </tr>\n",
       "    <tr>\n",
       "      <th>83965</th>\n",
       "      <td>6.700000</td>\n",
       "      <td>46.0</td>\n",
       "    </tr>\n",
       "    <tr>\n",
       "      <th>83966</th>\n",
       "      <td>6.700000</td>\n",
       "      <td>23.0</td>\n",
       "    </tr>\n",
       "    <tr>\n",
       "      <th>83967</th>\n",
       "      <td>6.700000</td>\n",
       "      <td>20.0</td>\n",
       "    </tr>\n",
       "    <tr>\n",
       "      <th>83968</th>\n",
       "      <td>7.200000</td>\n",
       "      <td>24.0</td>\n",
       "    </tr>\n",
       "    <tr>\n",
       "      <th>83969</th>\n",
       "      <td>7.700000</td>\n",
       "      <td>22.4</td>\n",
       "    </tr>\n",
       "  </tbody>\n",
       "</table>\n",
       "<p>83864 rows × 2 columns</p>\n",
       "</div>"
      ],
      "text/plain": [
       "            mag  depth\n",
       "0      4.057238   33.0\n",
       "1      4.057238   33.0\n",
       "2      4.057238   33.0\n",
       "3      4.057238   55.0\n",
       "4      4.057238   95.8\n",
       "...         ...    ...\n",
       "83965  6.700000   46.0\n",
       "83966  6.700000   23.0\n",
       "83967  6.700000   20.0\n",
       "83968  7.200000   24.0\n",
       "83969  7.700000   22.4\n",
       "\n",
       "[83864 rows x 2 columns]"
      ]
     },
     "execution_count": 244,
     "metadata": {},
     "output_type": "execute_result"
    }
   ],
   "source": [
    "X"
   ]
  },
  {
   "cell_type": "code",
   "execution_count": 245,
   "metadata": {},
   "outputs": [],
   "source": [
    "scaler = StandardScaler()\n",
    "\n",
    "X = pd.DataFrame(scaler.fit_transform(X), columns=X.columns)"
   ]
  },
  {
   "cell_type": "code",
   "execution_count": 246,
   "metadata": {},
   "outputs": [
    {
     "data": {
      "text/html": [
       "<div>\n",
       "<style scoped>\n",
       "    .dataframe tbody tr th:only-of-type {\n",
       "        vertical-align: middle;\n",
       "    }\n",
       "\n",
       "    .dataframe tbody tr th {\n",
       "        vertical-align: top;\n",
       "    }\n",
       "\n",
       "    .dataframe thead th {\n",
       "        text-align: right;\n",
       "    }\n",
       "</style>\n",
       "<table border=\"1\" class=\"dataframe\">\n",
       "  <thead>\n",
       "    <tr style=\"text-align: right;\">\n",
       "      <th></th>\n",
       "      <th>mag</th>\n",
       "      <th>depth</th>\n",
       "    </tr>\n",
       "  </thead>\n",
       "  <tbody>\n",
       "    <tr>\n",
       "      <th>0</th>\n",
       "      <td>-1.009636e-15</td>\n",
       "      <td>-0.101457</td>\n",
       "    </tr>\n",
       "    <tr>\n",
       "      <th>1</th>\n",
       "      <td>-1.009636e-15</td>\n",
       "      <td>-0.101457</td>\n",
       "    </tr>\n",
       "    <tr>\n",
       "      <th>2</th>\n",
       "      <td>-1.009636e-15</td>\n",
       "      <td>-0.101457</td>\n",
       "    </tr>\n",
       "    <tr>\n",
       "      <th>3</th>\n",
       "      <td>-1.009636e-15</td>\n",
       "      <td>-0.018364</td>\n",
       "    </tr>\n",
       "    <tr>\n",
       "      <th>4</th>\n",
       "      <td>-1.009636e-15</td>\n",
       "      <td>0.135735</td>\n",
       "    </tr>\n",
       "    <tr>\n",
       "      <th>...</th>\n",
       "      <td>...</td>\n",
       "      <td>...</td>\n",
       "    </tr>\n",
       "    <tr>\n",
       "      <th>83859</th>\n",
       "      <td>3.004157e+00</td>\n",
       "      <td>-0.052357</td>\n",
       "    </tr>\n",
       "    <tr>\n",
       "      <th>83860</th>\n",
       "      <td>3.004157e+00</td>\n",
       "      <td>-0.139227</td>\n",
       "    </tr>\n",
       "    <tr>\n",
       "      <th>83861</th>\n",
       "      <td>3.004157e+00</td>\n",
       "      <td>-0.150557</td>\n",
       "    </tr>\n",
       "    <tr>\n",
       "      <th>83862</th>\n",
       "      <td>3.572532e+00</td>\n",
       "      <td>-0.135450</td>\n",
       "    </tr>\n",
       "    <tr>\n",
       "      <th>83863</th>\n",
       "      <td>4.140906e+00</td>\n",
       "      <td>-0.141493</td>\n",
       "    </tr>\n",
       "  </tbody>\n",
       "</table>\n",
       "<p>83864 rows × 2 columns</p>\n",
       "</div>"
      ],
      "text/plain": [
       "                mag     depth\n",
       "0     -1.009636e-15 -0.101457\n",
       "1     -1.009636e-15 -0.101457\n",
       "2     -1.009636e-15 -0.101457\n",
       "3     -1.009636e-15 -0.018364\n",
       "4     -1.009636e-15  0.135735\n",
       "...             ...       ...\n",
       "83859  3.004157e+00 -0.052357\n",
       "83860  3.004157e+00 -0.139227\n",
       "83861  3.004157e+00 -0.150557\n",
       "83862  3.572532e+00 -0.135450\n",
       "83863  4.140906e+00 -0.141493\n",
       "\n",
       "[83864 rows x 2 columns]"
      ]
     },
     "execution_count": 246,
     "metadata": {},
     "output_type": "execute_result"
    }
   ],
   "source": [
    "X"
   ]
  },
  {
   "cell_type": "markdown",
   "metadata": {},
   "source": [
    "# Clustering"
   ]
  },
  {
   "cell_type": "code",
   "execution_count": 247,
   "metadata": {},
   "outputs": [
    {
     "data": {
      "text/html": [
       "<style>#sk-container-id-9 {color: black;background-color: white;}#sk-container-id-9 pre{padding: 0;}#sk-container-id-9 div.sk-toggleable {background-color: white;}#sk-container-id-9 label.sk-toggleable__label {cursor: pointer;display: block;width: 100%;margin-bottom: 0;padding: 0.3em;box-sizing: border-box;text-align: center;}#sk-container-id-9 label.sk-toggleable__label-arrow:before {content: \"▸\";float: left;margin-right: 0.25em;color: #696969;}#sk-container-id-9 label.sk-toggleable__label-arrow:hover:before {color: black;}#sk-container-id-9 div.sk-estimator:hover label.sk-toggleable__label-arrow:before {color: black;}#sk-container-id-9 div.sk-toggleable__content {max-height: 0;max-width: 0;overflow: hidden;text-align: left;background-color: #f0f8ff;}#sk-container-id-9 div.sk-toggleable__content pre {margin: 0.2em;color: black;border-radius: 0.25em;background-color: #f0f8ff;}#sk-container-id-9 input.sk-toggleable__control:checked~div.sk-toggleable__content {max-height: 200px;max-width: 100%;overflow: auto;}#sk-container-id-9 input.sk-toggleable__control:checked~label.sk-toggleable__label-arrow:before {content: \"▾\";}#sk-container-id-9 div.sk-estimator input.sk-toggleable__control:checked~label.sk-toggleable__label {background-color: #d4ebff;}#sk-container-id-9 div.sk-label input.sk-toggleable__control:checked~label.sk-toggleable__label {background-color: #d4ebff;}#sk-container-id-9 input.sk-hidden--visually {border: 0;clip: rect(1px 1px 1px 1px);clip: rect(1px, 1px, 1px, 1px);height: 1px;margin: -1px;overflow: hidden;padding: 0;position: absolute;width: 1px;}#sk-container-id-9 div.sk-estimator {font-family: monospace;background-color: #f0f8ff;border: 1px dotted black;border-radius: 0.25em;box-sizing: border-box;margin-bottom: 0.5em;}#sk-container-id-9 div.sk-estimator:hover {background-color: #d4ebff;}#sk-container-id-9 div.sk-parallel-item::after {content: \"\";width: 100%;border-bottom: 1px solid gray;flex-grow: 1;}#sk-container-id-9 div.sk-label:hover label.sk-toggleable__label {background-color: #d4ebff;}#sk-container-id-9 div.sk-serial::before {content: \"\";position: absolute;border-left: 1px solid gray;box-sizing: border-box;top: 0;bottom: 0;left: 50%;z-index: 0;}#sk-container-id-9 div.sk-serial {display: flex;flex-direction: column;align-items: center;background-color: white;padding-right: 0.2em;padding-left: 0.2em;position: relative;}#sk-container-id-9 div.sk-item {position: relative;z-index: 1;}#sk-container-id-9 div.sk-parallel {display: flex;align-items: stretch;justify-content: center;background-color: white;position: relative;}#sk-container-id-9 div.sk-item::before, #sk-container-id-9 div.sk-parallel-item::before {content: \"\";position: absolute;border-left: 1px solid gray;box-sizing: border-box;top: 0;bottom: 0;left: 50%;z-index: -1;}#sk-container-id-9 div.sk-parallel-item {display: flex;flex-direction: column;z-index: 1;position: relative;background-color: white;}#sk-container-id-9 div.sk-parallel-item:first-child::after {align-self: flex-end;width: 50%;}#sk-container-id-9 div.sk-parallel-item:last-child::after {align-self: flex-start;width: 50%;}#sk-container-id-9 div.sk-parallel-item:only-child::after {width: 0;}#sk-container-id-9 div.sk-dashed-wrapped {border: 1px dashed gray;margin: 0 0.4em 0.5em 0.4em;box-sizing: border-box;padding-bottom: 0.4em;background-color: white;}#sk-container-id-9 div.sk-label label {font-family: monospace;font-weight: bold;display: inline-block;line-height: 1.2em;}#sk-container-id-9 div.sk-label-container {text-align: center;}#sk-container-id-9 div.sk-container {/* jupyter's `normalize.less` sets `[hidden] { display: none; }` but bootstrap.min.css set `[hidden] { display: none !important; }` so we also need the `!important` here to be able to override the default hidden behavior on the sphinx rendered scikit-learn.org. See: https://github.com/scikit-learn/scikit-learn/issues/21755 */display: inline-block !important;position: relative;}#sk-container-id-9 div.sk-text-repr-fallback {display: none;}</style><div id=\"sk-container-id-9\" class=\"sk-top-container\"><div class=\"sk-text-repr-fallback\"><pre>KMeans(n_clusters=5)</pre><b>In a Jupyter environment, please rerun this cell to show the HTML representation or trust the notebook. <br />On GitHub, the HTML representation is unable to render, please try loading this page with nbviewer.org.</b></div><div class=\"sk-container\" hidden><div class=\"sk-item\"><div class=\"sk-estimator sk-toggleable\"><input class=\"sk-toggleable__control sk-hidden--visually\" id=\"sk-estimator-id-9\" type=\"checkbox\" checked><label for=\"sk-estimator-id-9\" class=\"sk-toggleable__label sk-toggleable__label-arrow\">KMeans</label><div class=\"sk-toggleable__content\"><pre>KMeans(n_clusters=5)</pre></div></div></div></div></div>"
      ],
      "text/plain": [
       "KMeans(n_clusters=5)"
      ]
     },
     "execution_count": 247,
     "metadata": {},
     "output_type": "execute_result"
    }
   ],
   "source": [
    "kmeans = KMeans(n_clusters=5)\n",
    "kmeans.fit(X)"
   ]
  },
  {
   "cell_type": "code",
   "execution_count": 248,
   "metadata": {},
   "outputs": [
    {
     "data": {
      "text/plain": [
       "array([3, 3, 3, ..., 0, 0, 0])"
      ]
     },
     "execution_count": 248,
     "metadata": {},
     "output_type": "execute_result"
    }
   ],
   "source": [
    "clusters = kmeans.predict(X)\n",
    "clusters"
   ]
  },
  {
   "cell_type": "markdown",
   "metadata": {},
   "source": [
    "Visualization"
   ]
  },
  {
   "cell_type": "code",
   "execution_count": 249,
   "metadata": {},
   "outputs": [
    {
     "data": {
      "text/html": [
       "<div>\n",
       "<style scoped>\n",
       "    .dataframe tbody tr th:only-of-type {\n",
       "        vertical-align: middle;\n",
       "    }\n",
       "\n",
       "    .dataframe tbody tr th {\n",
       "        vertical-align: top;\n",
       "    }\n",
       "\n",
       "    .dataframe thead th {\n",
       "        text-align: right;\n",
       "    }\n",
       "</style>\n",
       "<table border=\"1\" class=\"dataframe\">\n",
       "  <thead>\n",
       "    <tr style=\"text-align: right;\">\n",
       "      <th></th>\n",
       "      <th>PC1</th>\n",
       "      <th>PC2</th>\n",
       "    </tr>\n",
       "  </thead>\n",
       "  <tbody>\n",
       "    <tr>\n",
       "      <th>0</th>\n",
       "      <td>-0.071741</td>\n",
       "      <td>-0.071741</td>\n",
       "    </tr>\n",
       "    <tr>\n",
       "      <th>1</th>\n",
       "      <td>-0.071741</td>\n",
       "      <td>-0.071741</td>\n",
       "    </tr>\n",
       "    <tr>\n",
       "      <th>2</th>\n",
       "      <td>-0.071741</td>\n",
       "      <td>-0.071741</td>\n",
       "    </tr>\n",
       "    <tr>\n",
       "      <th>3</th>\n",
       "      <td>-0.012986</td>\n",
       "      <td>-0.012986</td>\n",
       "    </tr>\n",
       "    <tr>\n",
       "      <th>4</th>\n",
       "      <td>0.095979</td>\n",
       "      <td>0.095979</td>\n",
       "    </tr>\n",
       "    <tr>\n",
       "      <th>...</th>\n",
       "      <td>...</td>\n",
       "      <td>...</td>\n",
       "    </tr>\n",
       "    <tr>\n",
       "      <th>83859</th>\n",
       "      <td>-2.161282</td>\n",
       "      <td>2.087238</td>\n",
       "    </tr>\n",
       "    <tr>\n",
       "      <th>83860</th>\n",
       "      <td>-2.222708</td>\n",
       "      <td>2.025812</td>\n",
       "    </tr>\n",
       "    <tr>\n",
       "      <th>83861</th>\n",
       "      <td>-2.230720</td>\n",
       "      <td>2.017800</td>\n",
       "    </tr>\n",
       "    <tr>\n",
       "      <th>83862</th>\n",
       "      <td>-2.621939</td>\n",
       "      <td>2.430384</td>\n",
       "    </tr>\n",
       "    <tr>\n",
       "      <th>83863</th>\n",
       "      <td>-3.028113</td>\n",
       "      <td>2.828012</td>\n",
       "    </tr>\n",
       "  </tbody>\n",
       "</table>\n",
       "<p>83864 rows × 2 columns</p>\n",
       "</div>"
      ],
      "text/plain": [
       "            PC1       PC2\n",
       "0     -0.071741 -0.071741\n",
       "1     -0.071741 -0.071741\n",
       "2     -0.071741 -0.071741\n",
       "3     -0.012986 -0.012986\n",
       "4      0.095979  0.095979\n",
       "...         ...       ...\n",
       "83859 -2.161282  2.087238\n",
       "83860 -2.222708  2.025812\n",
       "83861 -2.230720  2.017800\n",
       "83862 -2.621939  2.430384\n",
       "83863 -3.028113  2.828012\n",
       "\n",
       "[83864 rows x 2 columns]"
      ]
     },
     "execution_count": 249,
     "metadata": {},
     "output_type": "execute_result"
    }
   ],
   "source": [
    "pca = PCA(n_components=2)\n",
    "reduced_X = pd.DataFrame(pca.fit_transform(X), columns=['PC1', 'PC2'])\n",
    "reduced_X"
   ]
  },
  {
   "cell_type": "code",
   "execution_count": 250,
   "metadata": {},
   "outputs": [
    {
     "data": {
      "text/html": [
       "<div>\n",
       "<style scoped>\n",
       "    .dataframe tbody tr th:only-of-type {\n",
       "        vertical-align: middle;\n",
       "    }\n",
       "\n",
       "    .dataframe tbody tr th {\n",
       "        vertical-align: top;\n",
       "    }\n",
       "\n",
       "    .dataframe thead th {\n",
       "        text-align: right;\n",
       "    }\n",
       "</style>\n",
       "<table border=\"1\" class=\"dataframe\">\n",
       "  <thead>\n",
       "    <tr style=\"text-align: right;\">\n",
       "      <th></th>\n",
       "      <th>PC1</th>\n",
       "      <th>PC2</th>\n",
       "      <th>cluster</th>\n",
       "    </tr>\n",
       "  </thead>\n",
       "  <tbody>\n",
       "    <tr>\n",
       "      <th>0</th>\n",
       "      <td>-0.071741</td>\n",
       "      <td>-0.071741</td>\n",
       "      <td>3</td>\n",
       "    </tr>\n",
       "    <tr>\n",
       "      <th>1</th>\n",
       "      <td>-0.071741</td>\n",
       "      <td>-0.071741</td>\n",
       "      <td>3</td>\n",
       "    </tr>\n",
       "    <tr>\n",
       "      <th>2</th>\n",
       "      <td>-0.071741</td>\n",
       "      <td>-0.071741</td>\n",
       "      <td>3</td>\n",
       "    </tr>\n",
       "    <tr>\n",
       "      <th>3</th>\n",
       "      <td>-0.012986</td>\n",
       "      <td>-0.012986</td>\n",
       "      <td>3</td>\n",
       "    </tr>\n",
       "    <tr>\n",
       "      <th>4</th>\n",
       "      <td>0.095979</td>\n",
       "      <td>0.095979</td>\n",
       "      <td>3</td>\n",
       "    </tr>\n",
       "    <tr>\n",
       "      <th>...</th>\n",
       "      <td>...</td>\n",
       "      <td>...</td>\n",
       "      <td>...</td>\n",
       "    </tr>\n",
       "    <tr>\n",
       "      <th>83859</th>\n",
       "      <td>-2.161282</td>\n",
       "      <td>2.087238</td>\n",
       "      <td>0</td>\n",
       "    </tr>\n",
       "    <tr>\n",
       "      <th>83860</th>\n",
       "      <td>-2.222708</td>\n",
       "      <td>2.025812</td>\n",
       "      <td>0</td>\n",
       "    </tr>\n",
       "    <tr>\n",
       "      <th>83861</th>\n",
       "      <td>-2.230720</td>\n",
       "      <td>2.017800</td>\n",
       "      <td>0</td>\n",
       "    </tr>\n",
       "    <tr>\n",
       "      <th>83862</th>\n",
       "      <td>-2.621939</td>\n",
       "      <td>2.430384</td>\n",
       "      <td>0</td>\n",
       "    </tr>\n",
       "    <tr>\n",
       "      <th>83863</th>\n",
       "      <td>-3.028113</td>\n",
       "      <td>2.828012</td>\n",
       "      <td>0</td>\n",
       "    </tr>\n",
       "  </tbody>\n",
       "</table>\n",
       "<p>83864 rows × 3 columns</p>\n",
       "</div>"
      ],
      "text/plain": [
       "            PC1       PC2  cluster\n",
       "0     -0.071741 -0.071741        3\n",
       "1     -0.071741 -0.071741        3\n",
       "2     -0.071741 -0.071741        3\n",
       "3     -0.012986 -0.012986        3\n",
       "4      0.095979  0.095979        3\n",
       "...         ...       ...      ...\n",
       "83859 -2.161282  2.087238        0\n",
       "83860 -2.222708  2.025812        0\n",
       "83861 -2.230720  2.017800        0\n",
       "83862 -2.621939  2.430384        0\n",
       "83863 -3.028113  2.828012        0\n",
       "\n",
       "[83864 rows x 3 columns]"
      ]
     },
     "execution_count": 250,
     "metadata": {},
     "output_type": "execute_result"
    }
   ],
   "source": [
    "reduced_X['cluster'] = clusters\n",
    "reduced_X"
   ]
  },
  {
   "cell_type": "code",
   "execution_count": 251,
   "metadata": {},
   "outputs": [
    {
     "name": "stderr",
     "output_type": "stream",
     "text": [
      "c:\\Users\\Auli\\AppData\\Local\\Programs\\Python\\Python310\\lib\\site-packages\\sklearn\\base.py:450: UserWarning: X does not have valid feature names, but PCA was fitted with feature names\n",
      "  warnings.warn(\n"
     ]
    },
    {
     "data": {
      "text/plain": [
       "array([[-7.58833014e-01,  7.20704463e-01],\n",
       "       [ 8.63662095e-01, -8.74868857e-01],\n",
       "       [ 1.39688116e+02,  1.40399904e+02],\n",
       "       [-5.45368404e-02,  6.21023399e-02],\n",
       "       [ 3.11828656e+00, -3.10268981e+00]])"
      ]
     },
     "execution_count": 251,
     "metadata": {},
     "output_type": "execute_result"
    }
   ],
   "source": [
    "reduced_centers = pca.transform(kmeans.cluster_centers_)\n",
    "reduced_centers"
   ]
  },
  {
   "cell_type": "code",
   "execution_count": 252,
   "metadata": {},
   "outputs": [
    {
     "data": {
      "image/png": "[encoded data removed]",
      "text/plain": [
       "<Figure size 1400x1000 with 1 Axes>"
      ]
     },
     "metadata": {},
     "output_type": "display_data"
    }
   ],
   "source": [
    "plt.figure(figsize=(14,10))\n",
    "\n",
    "#plt.scatter(reduced_X.PC1, reduced_X.PC2)\n",
    "\n",
    "plt.scatter(reduced_X[reduced_X.cluster == 1].loc[:, 'PC1'], reduced_X[reduced_X.cluster == 1].loc[:, 'PC2'], color='slateblue')\n",
    "plt.scatter(reduced_X[reduced_X.cluster == 0].loc[:, 'PC1'], reduced_X[reduced_X.cluster == 0].loc[:, 'PC2'], color='red')\n",
    "plt.scatter(reduced_X[reduced_X.cluster == 2].loc[:, 'PC1'], reduced_X[reduced_X.cluster == 2].loc[:, 'PC2'], color='blue')\n",
    "plt.scatter(reduced_X[reduced_X.cluster == 3].loc[:, 'PC1'], reduced_X[reduced_X.cluster == 3].loc[:, 'PC2'], color='indigo')\n",
    "plt.scatter(reduced_X[reduced_X.cluster == 4].loc[:, 'PC1'], reduced_X[reduced_X.cluster == 4].loc[:, 'PC2'], color='teal')\n",
    "#plt.scatter(reduced_X[reduced_X.cluster == 5].loc[:, 'PC1'], reduced_X[reduced_X.cluster == 5].loc[:, 'PC2'], color='red')\n",
    "\n",
    "\n",
    "plt.scatter(reduced_centers[:,0], reduced_centers[:,1], color='black', marker='X', s=300)\n",
    "\n",
    "plt.show()"
   ]
  },
  {
   "cell_type": "code",
   "execution_count": 253,
   "metadata": {},
   "outputs": [
    {
     "data": {
      "text/plain": [
       "17632.744277905284"
      ]
     },
     "execution_count": 253,
     "metadata": {},
     "output_type": "execute_result"
    }
   ],
   "source": [
    "kmeans.inertia_"
   ]
  },
  {
   "cell_type": "code",
   "execution_count": 182,
   "metadata": {},
   "outputs": [],
   "source": [
    "k_rng = range(1,5)\n",
    "sse = []\n",
    "for k in k_rng:\n",
    "    km = KMeans(n_clusters=k)\n",
    "    km.fit(X)\n",
    "    sse.append(km.inertia_)"
   ]
  },
  {
   "cell_type": "code",
   "execution_count": 183,
   "metadata": {},
   "outputs": [
    {
     "data": {
      "text/plain": [
       "[419319.99999999965, 246567.06984224776, 168135.7396937446, 128830.52003864666]"
      ]
     },
     "execution_count": 183,
     "metadata": {},
     "output_type": "execute_result"
    }
   ],
   "source": [
    "sse"
   ]
  },
  {
   "cell_type": "code",
   "execution_count": 184,
   "metadata": {},
   "outputs": [
    {
     "data": {
      "text/plain": [
       "[<matplotlib.lines.Line2D at 0x1d99df359c0>]"
      ]
     },
     "execution_count": 184,
     "metadata": {},
     "output_type": "execute_result"
    },
    {
     "data": {
      "image/png": "[encoded data removed]",
      "text/plain": [
       "<Figure size 1600x500 with 1 Axes>"
      ]
     },
     "metadata": {},
     "output_type": "display_data"
    }
   ],
   "source": [
    "plt.xlabel('K')\n",
    "plt.ylabel('Sum of squared error')\n",
    "plt.plot(k_rng, sse)"
   ]
  },
  {
   "cell_type": "code",
   "execution_count": 185,
   "metadata": {},
   "outputs": [
    {
     "data": {
      "image/png": "[encoded data removed]",
      "text/plain": [
       "<Figure size 1600x500 with 1 Axes>"
      ]
     },
     "metadata": {},
     "output_type": "display_data"
    }
   ],
   "source": [
    "Sum_of_squared_distances = []\n",
    "K = range(1,10)\n",
    "for num_clusters in K :\n",
    " kmeans = KMeans(n_clusters=num_clusters)\n",
    " kmeans.fit(X)\n",
    " Sum_of_squared_distances.append(kmeans.inertia_)\n",
    "plt.plot(K,Sum_of_squared_distances,'bx-')\n",
    "plt.xlabel('Values of K') \n",
    "plt.ylabel('Sum of squared distances/Inertia') \n",
    "plt.title('Elbow Method For Optimal k')\n",
    "plt.show()"
   ]
  },
  {
   "cell_type": "markdown",
   "metadata": {},
   "source": [
    "Saving model to see it perform with real time data"
   ]
  },
  {
   "cell_type": "code",
   "execution_count": 261,
   "metadata": {},
   "outputs": [
    {
     "data": {
      "text/plain": [
       "['KMeans_v3']"
      ]
     },
     "execution_count": 261,
     "metadata": {},
     "output_type": "execute_result"
    }
   ],
   "source": [
    "import joblib\n",
    "\n",
    "joblib.dump(kmeans, 'KMeans_v3')"
   ]
  },
  {
   "cell_type": "code",
   "execution_count": 254,
   "metadata": {},
   "outputs": [],
   "source": [
    "df['cluster'] = clusters"
   ]
  },
  {
   "cell_type": "code",
   "execution_count": 255,
   "metadata": {},
   "outputs": [
    {
     "data": {
      "text/html": [
       "<div>\n",
       "<style scoped>\n",
       "    .dataframe tbody tr th:only-of-type {\n",
       "        vertical-align: middle;\n",
       "    }\n",
       "\n",
       "    .dataframe tbody tr th {\n",
       "        vertical-align: top;\n",
       "    }\n",
       "\n",
       "    .dataframe thead th {\n",
       "        text-align: right;\n",
       "    }\n",
       "</style>\n",
       "<table border=\"1\" class=\"dataframe\">\n",
       "  <thead>\n",
       "    <tr style=\"text-align: right;\">\n",
       "      <th></th>\n",
       "      <th>mag</th>\n",
       "      <th>depth</th>\n",
       "      <th>cluster</th>\n",
       "    </tr>\n",
       "  </thead>\n",
       "  <tbody>\n",
       "    <tr>\n",
       "      <th>0</th>\n",
       "      <td>4.057238</td>\n",
       "      <td>33.0</td>\n",
       "      <td>3</td>\n",
       "    </tr>\n",
       "    <tr>\n",
       "      <th>1</th>\n",
       "      <td>4.057238</td>\n",
       "      <td>33.0</td>\n",
       "      <td>3</td>\n",
       "    </tr>\n",
       "    <tr>\n",
       "      <th>2</th>\n",
       "      <td>4.057238</td>\n",
       "      <td>33.0</td>\n",
       "      <td>3</td>\n",
       "    </tr>\n",
       "    <tr>\n",
       "      <th>3</th>\n",
       "      <td>4.057238</td>\n",
       "      <td>55.0</td>\n",
       "      <td>3</td>\n",
       "    </tr>\n",
       "    <tr>\n",
       "      <th>4</th>\n",
       "      <td>4.057238</td>\n",
       "      <td>95.8</td>\n",
       "      <td>3</td>\n",
       "    </tr>\n",
       "    <tr>\n",
       "      <th>...</th>\n",
       "      <td>...</td>\n",
       "      <td>...</td>\n",
       "      <td>...</td>\n",
       "    </tr>\n",
       "    <tr>\n",
       "      <th>83965</th>\n",
       "      <td>6.700000</td>\n",
       "      <td>46.0</td>\n",
       "      <td>0</td>\n",
       "    </tr>\n",
       "    <tr>\n",
       "      <th>83966</th>\n",
       "      <td>6.700000</td>\n",
       "      <td>23.0</td>\n",
       "      <td>0</td>\n",
       "    </tr>\n",
       "    <tr>\n",
       "      <th>83967</th>\n",
       "      <td>6.700000</td>\n",
       "      <td>20.0</td>\n",
       "      <td>0</td>\n",
       "    </tr>\n",
       "    <tr>\n",
       "      <th>83968</th>\n",
       "      <td>7.200000</td>\n",
       "      <td>24.0</td>\n",
       "      <td>0</td>\n",
       "    </tr>\n",
       "    <tr>\n",
       "      <th>83969</th>\n",
       "      <td>7.700000</td>\n",
       "      <td>22.4</td>\n",
       "      <td>0</td>\n",
       "    </tr>\n",
       "  </tbody>\n",
       "</table>\n",
       "<p>83864 rows × 3 columns</p>\n",
       "</div>"
      ],
      "text/plain": [
       "            mag  depth  cluster\n",
       "0      4.057238   33.0        3\n",
       "1      4.057238   33.0        3\n",
       "2      4.057238   33.0        3\n",
       "3      4.057238   55.0        3\n",
       "4      4.057238   95.8        3\n",
       "...         ...    ...      ...\n",
       "83965  6.700000   46.0        0\n",
       "83966  6.700000   23.0        0\n",
       "83967  6.700000   20.0        0\n",
       "83968  7.200000   24.0        0\n",
       "83969  7.700000   22.4        0\n",
       "\n",
       "[83864 rows x 3 columns]"
      ]
     },
     "execution_count": 255,
     "metadata": {},
     "output_type": "execute_result"
    }
   ],
   "source": [
    "df"
   ]
  },
  {
   "cell_type": "code",
   "execution_count": 256,
   "metadata": {},
   "outputs": [
    {
     "name": "stdout",
     "output_type": "stream",
     "text": [
      "0.0 cluster - Max mag: 9.5, min mag: 4.6\n",
      "1.0 cluster - Max mag: 3.52, min mag: 1.59\n",
      "2.0 cluster - Max mag: 4.6, min mag: 4.4\n",
      "3.0 cluster - Max mag: 4.6, min mag: 3.6\n",
      "4.0 cluster - Max mag: 1.57, min mag: -1.23\n"
     ]
    }
   ],
   "source": [
    "print(f'0.0 cluster - Max mag: {df[df.cluster == 0.0].mag.max()}, min mag: {df[df.cluster == 0.0].mag.min()}')\n",
    "print(f'1.0 cluster - Max mag: {df[df.cluster == 1.0].mag.max()}, min mag: {df[df.cluster == 1.0].mag.min()}')\n",
    "print(f'2.0 cluster - Max mag: {df[df.cluster == 2.0].mag.max()}, min mag: {df[df.cluster == 2.0].mag.min()}')\n",
    "print(f'3.0 cluster - Max mag: {df[df.cluster == 3.0].mag.max()}, min mag: {df[df.cluster == 3.0].mag.min()}')\n",
    "print(f'4.0 cluster - Max mag: {df[df.cluster == 4.0].mag.max()}, min mag: {df[df.cluster == 4.0].mag.min()}')\n",
    "#print(f'5.0 cluster - Max mag: {df_merged[df_merged.cluster == 5.0].mag.max()}, min mag: {df_merged[df_merged.cluster == 5.0].mag.min()}')"
   ]
  },
  {
   "cell_type": "code",
   "execution_count": 257,
   "metadata": {},
   "outputs": [
    {
     "name": "stdout",
     "output_type": "stream",
     "text": [
      "0.0 cluster - Max depth: 592.8, min depth: 0.0\n",
      "1.0 cluster - Max depth: 502.0, min depth: -3.7\n",
      "2.0 cluster - Max depth: 55283.0, min depth: 49711.0\n",
      "3.0 cluster - Max depth: 637.0, min depth: -3.7\n",
      "3.0 cluster - Max depth: 484.8, min depth: -3.5\n"
     ]
    }
   ],
   "source": [
    "print(f'0.0 cluster - Max depth: {df[df.cluster == 0.0].depth.max()}, min depth: {df[df.cluster == 0.0].depth.min()}')\n",
    "print(f'1.0 cluster - Max depth: {df[df.cluster == 1.0].depth.max()}, min depth: {df[df.cluster == 1.0].depth.min()}')\n",
    "print(f'2.0 cluster - Max depth: {df[df.cluster == 2.0].depth.max()}, min depth: {df[df.cluster == 2.0].depth.min()}')\n",
    "print(f'3.0 cluster - Max depth: {df[df.cluster == 3.0].depth.max()}, min depth: {df[df.cluster == 3.0].depth.min()}')\n",
    "print(f'3.0 cluster - Max depth: {df[df.cluster == 4.0].depth.max()}, min depth: {df[df.cluster == 4.0].depth.min()}')"
   ]
  },
  {
   "cell_type": "code",
   "execution_count": 258,
   "metadata": {},
   "outputs": [
    {
     "data": {
      "text/plain": [
       "-1.23"
      ]
     },
     "execution_count": 258,
     "metadata": {},
     "output_type": "execute_result"
    }
   ],
   "source": [
    "df.mag.min()"
   ]
  },
  {
   "cell_type": "code",
   "execution_count": 259,
   "metadata": {},
   "outputs": [
    {
     "data": {
      "text/plain": [
       "3    47054\n",
       "0    20059\n",
       "1    15401\n",
       "4     1348\n",
       "2        2\n",
       "Name: cluster, dtype: int64"
      ]
     },
     "execution_count": 259,
     "metadata": {},
     "output_type": "execute_result"
    }
   ],
   "source": [
    "df.cluster.value_counts()"
   ]
  },
  {
   "cell_type": "markdown",
   "metadata": {},
   "source": [
    "# Checking number of clusters"
   ]
  },
  {
   "cell_type": "code",
   "execution_count": 260,
   "metadata": {},
   "outputs": [
    {
     "data": {
      "text/plain": [
       "0.49396562847909276"
      ]
     },
     "execution_count": 260,
     "metadata": {},
     "output_type": "execute_result"
    }
   ],
   "source": [
    "silhouette_score(X, kmeans.labels_)"
   ]
  },
  {
   "cell_type": "markdown",
   "metadata": {},
   "source": [
    "Creting list to see scores with different cluster number"
   ]
  },
  {
   "cell_type": "code",
   "execution_count": 192,
   "metadata": {},
   "outputs": [
    {
     "data": {
      "text/plain": [
       "[0.5082047801227891,\n",
       " 0.5085803245263443,\n",
       " 0.4293476706141173,\n",
       " 0.4411278034291734,\n",
       " 0.4095007089918163]"
      ]
     },
     "execution_count": 192,
     "metadata": {},
     "output_type": "execute_result"
    }
   ],
   "source": [
    "k_means_per_k = [KMeans(n_clusters=k, random_state=42).fit(X) for k in range(1,7)]\n",
    "\n",
    "silhouette_scores = [silhouette_score(X, model.labels_) for model in k_means_per_k[1:]]\n",
    "\n",
    "silhouette_scores"
   ]
  },
  {
   "cell_type": "markdown",
   "metadata": {},
   "source": [
    "Plotting silhouette scores"
   ]
  },
  {
   "cell_type": "code",
   "execution_count": 193,
   "metadata": {},
   "outputs": [],
   "source": [
    "from pylab import rcParams"
   ]
  },
  {
   "cell_type": "code",
   "execution_count": 194,
   "metadata": {},
   "outputs": [
    {
     "name": "stderr",
     "output_type": "stream",
     "text": [
      "C:\\Users\\Auli\\AppData\\Local\\Temp\\ipykernel_9072\\158933474.py:2: UserWarning: color is redundantly defined by the 'color' keyword argument and the fmt string \"bo-\" (-> color='b'). The keyword argument will take precedence.\n",
      "  plt.plot(range(2,7), silhouette_scores, 'bo-', color='blue',\n"
     ]
    },
    {
     "data": {
      "image/png": "[encoded data removed]",
      "text/plain": [
       "<Figure size 1600x500 with 1 Axes>"
      ]
     },
     "metadata": {},
     "output_type": "display_data"
    }
   ],
   "source": [
    "rcParams['figure.figsize'] = 16,5\n",
    "plt.plot(range(2,7), silhouette_scores, 'bo-', color='blue',\n",
    "linewidth=3, markersize=8, label='silhouette curve')\n",
    "plt.xlabel('$k$', fontsize=14, family='Arial')\n",
    "plt.ylabel('Silhoutte score', fontsize=14, family='Arial')\n",
    "plt.grid(which='major', color='#cccccc', linestyle='--')\n",
    "\n",
    "plt.title('Silhoutte curve for predict optimal number of clusters', family='Arial', fontsize=14)\n",
    "\n",
    "k = np.argmax(silhouette_scores) * 2\n",
    "\n",
    "plt.legend(shadow=True)\n",
    "\n",
    "plt.show()"
   ]
  }
 ],
 "metadata": {
  "kernelspec": {
   "display_name": "Python 3.10.5 64-bit",
   "language": "python",
   "name": "python3"
  },
  "language_info": {
   "codemirror_mode": {
    "name": "ipython",
    "version": 3
   },
   "file_extension": ".py",
   "mimetype": "text/x-python",
   "name": "python",
   "nbconvert_exporter": "python",
   "pygments_lexer": "ipython3",
   "version": "3.10.5"
  },
  "orig_nbformat": 4,
  "vscode": {
   "interpreter": {
    "hash": "2efd9f29f17dafd1e01732ce528e1fd45416f34141c32d0e667b2a58f2e9bb04"
   }
  }
 },
 "nbformat": 4,
 "nbformat_minor": 2
}
