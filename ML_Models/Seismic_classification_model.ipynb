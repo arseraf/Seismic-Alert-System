{
 "cells": [
  {
   "cell_type": "markdown",
   "metadata": {},
   "source": [
    "# Machine Learning Model\n",
    "\n",
    "## Seismic Peligrosity Classification\n",
    "\n",
    "Our goal is to categorize an earthquake dangerousness based in it's properties. For this, we are going to use an unsupervised model such as K-Means and DBSCAN. \n"
   ]
  },
  {
   "cell_type": "code",
   "execution_count": 51,
   "metadata": {},
   "outputs": [],
   "source": [
    "import numpy as np\n",
    "import pandas as pd\n",
    "import matplotlib.pyplot as plt\n",
    "import seaborn as sns\n",
    "from urllib.request import urlopen\n",
    "import json\n",
    "import db_dtypes\n",
    "import datetime\n",
    "\n",
    "from google.cloud import bigquery\n",
    "from google.oauth2 import service_account\n",
    "\n",
    "import sklearn.compose\n",
    "from sklearn.compose import make_column_transformer\n",
    "from sklearn.cluster import KMeans\n",
    "\n",
    "\n",
    "from matplotlib import style\n",
    "style.use ('dark_background')\n"
   ]
  },
  {
   "cell_type": "code",
   "execution_count": 52,
   "metadata": {},
   "outputs": [],
   "source": [
    "# Import 'earthquake_deduped' data from BigQuery:\n",
    "\n",
    "project_id = 'seismic-alert-system'\n",
    "\n",
    "credentials = service_account.Credentials.from_service_account_file('seismic-alert-system-31876e79136b.json')\n",
    "client = bigquery.Client(project=project_id, location='southamerica-east1', credentials=credentials)\n",
    "\n",
    "#dataset = client.create_dataset('ML_test', exists_ok=True)\n"
   ]
  },
  {
   "cell_type": "code",
   "execution_count": 53,
   "metadata": {},
   "outputs": [],
   "source": [
    "# Get the table from BigQuery\n",
    "table = client.get_table(\"seismic-alert-system.seismic_datawarehouse.earthquake_deduped\")"
   ]
  },
  {
   "cell_type": "code",
   "execution_count": 54,
   "metadata": {},
   "outputs": [],
   "source": [
    "df = client.list_rows(table).to_dataframe()"
   ]
  },
  {
   "cell_type": "code",
   "execution_count": 55,
   "metadata": {},
   "outputs": [
    {
     "data": {
      "text/html": [
       "<div>\n",
       "<style scoped>\n",
       "    .dataframe tbody tr th:only-of-type {\n",
       "        vertical-align: middle;\n",
       "    }\n",
       "\n",
       "    .dataframe tbody tr th {\n",
       "        vertical-align: top;\n",
       "    }\n",
       "\n",
       "    .dataframe thead th {\n",
       "        text-align: right;\n",
       "    }\n",
       "</style>\n",
       "<table border=\"1\" class=\"dataframe\">\n",
       "  <thead>\n",
       "    <tr style=\"text-align: right;\">\n",
       "      <th></th>\n",
       "      <th>time</th>\n",
       "      <th>place</th>\n",
       "      <th>mag</th>\n",
       "      <th>magType</th>\n",
       "      <th>depth</th>\n",
       "      <th>latitude</th>\n",
       "      <th>longitude</th>\n",
       "    </tr>\n",
       "  </thead>\n",
       "  <tbody>\n",
       "    <tr>\n",
       "      <th>0</th>\n",
       "      <td>2022-11-02 22:19:25.000</td>\n",
       "      <td>85 km al SE de Arica - Chile</td>\n",
       "      <td>4.00</td>\n",
       "      <td>Mb</td>\n",
       "      <td>59.050</td>\n",
       "      <td>-19.2078</td>\n",
       "      <td>-70.0687</td>\n",
       "    </tr>\n",
       "    <tr>\n",
       "      <th>1</th>\n",
       "      <td>2022-09-29 15:09:49.000</td>\n",
       "      <td>175 km al NE de La Serena - Chile</td>\n",
       "      <td>4.00</td>\n",
       "      <td>Mb</td>\n",
       "      <td>145.290</td>\n",
       "      <td>-28.9031</td>\n",
       "      <td>-69.859</td>\n",
       "    </tr>\n",
       "    <tr>\n",
       "      <th>2</th>\n",
       "      <td>2022-10-02 10:36:37.000</td>\n",
       "      <td>149 km al SE de Iquique - Chile</td>\n",
       "      <td>4.00</td>\n",
       "      <td>Mb</td>\n",
       "      <td>184.000</td>\n",
       "      <td>-21.15</td>\n",
       "      <td>-69.13</td>\n",
       "    </tr>\n",
       "    <tr>\n",
       "      <th>3</th>\n",
       "      <td>2022-09-30 07:35:33.000</td>\n",
       "      <td>Antofagasta - Chile</td>\n",
       "      <td>4.00</td>\n",
       "      <td>Mb</td>\n",
       "      <td>128.650</td>\n",
       "      <td>-22.6113</td>\n",
       "      <td>-68.5343</td>\n",
       "    </tr>\n",
       "    <tr>\n",
       "      <th>4</th>\n",
       "      <td>2022-09-19 23:55:20.000</td>\n",
       "      <td>37 km al S de Valparaíso - Chile</td>\n",
       "      <td>4.00</td>\n",
       "      <td>Mb</td>\n",
       "      <td>35.000</td>\n",
       "      <td>-33.3612</td>\n",
       "      <td>-71.7152</td>\n",
       "    </tr>\n",
       "    <tr>\n",
       "      <th>...</th>\n",
       "      <td>...</td>\n",
       "      <td>...</td>\n",
       "      <td>...</td>\n",
       "      <td>...</td>\n",
       "      <td>...</td>\n",
       "      <td>...</td>\n",
       "      <td>...</td>\n",
       "    </tr>\n",
       "    <tr>\n",
       "      <th>694</th>\n",
       "      <td>2022-11-28 13:05:27.570</td>\n",
       "      <td>12 km NNE of Pāhala, Hawaii</td>\n",
       "      <td>1.81</td>\n",
       "      <td>ml</td>\n",
       "      <td>8.170</td>\n",
       "      <td>19.3043327331543</td>\n",
       "      <td>-155.434997558594</td>\n",
       "    </tr>\n",
       "    <tr>\n",
       "      <th>695</th>\n",
       "      <td>2022-11-28 10:39:08.327</td>\n",
       "      <td>150 km NNE of Calama, Chile</td>\n",
       "      <td>4.60</td>\n",
       "      <td>mww</td>\n",
       "      <td>153.554</td>\n",
       "      <td>-21.1637</td>\n",
       "      <td>-68.4698</td>\n",
       "    </tr>\n",
       "    <tr>\n",
       "      <th>696</th>\n",
       "      <td>2022-11-26 06:05:35.603</td>\n",
       "      <td>Pagan region, Northern Mariana Islands</td>\n",
       "      <td>5.60</td>\n",
       "      <td>mww</td>\n",
       "      <td>18.051</td>\n",
       "      <td>18.7113</td>\n",
       "      <td>146.9627</td>\n",
       "    </tr>\n",
       "    <tr>\n",
       "      <th>697</th>\n",
       "      <td>2022-11-24 09:15:25.457</td>\n",
       "      <td>25 km SW of Malango, Solomon Islands</td>\n",
       "      <td>5.40</td>\n",
       "      <td>mww</td>\n",
       "      <td>10.000</td>\n",
       "      <td>-9.8276</td>\n",
       "      <td>159.5324</td>\n",
       "    </tr>\n",
       "    <tr>\n",
       "      <th>698</th>\n",
       "      <td>2022-11-28 09:30:27.277</td>\n",
       "      <td>115 km E of ‘Ohonua, Tonga</td>\n",
       "      <td>5.40</td>\n",
       "      <td>mww</td>\n",
       "      <td>43.610</td>\n",
       "      <td>-21.3843</td>\n",
       "      <td>-173.8365</td>\n",
       "    </tr>\n",
       "  </tbody>\n",
       "</table>\n",
       "<p>699 rows × 7 columns</p>\n",
       "</div>"
      ],
      "text/plain": [
       "                       time                                   place   mag  \\\n",
       "0   2022-11-02 22:19:25.000            85 km al SE de Arica - Chile  4.00   \n",
       "1   2022-09-29 15:09:49.000       175 km al NE de La Serena - Chile  4.00   \n",
       "2   2022-10-02 10:36:37.000         149 km al SE de Iquique - Chile  4.00   \n",
       "3   2022-09-30 07:35:33.000                     Antofagasta - Chile  4.00   \n",
       "4   2022-09-19 23:55:20.000        37 km al S de Valparaíso - Chile  4.00   \n",
       "..                      ...                                     ...   ...   \n",
       "694 2022-11-28 13:05:27.570             12 km NNE of Pāhala, Hawaii  1.81   \n",
       "695 2022-11-28 10:39:08.327             150 km NNE of Calama, Chile  4.60   \n",
       "696 2022-11-26 06:05:35.603  Pagan region, Northern Mariana Islands  5.60   \n",
       "697 2022-11-24 09:15:25.457    25 km SW of Malango, Solomon Islands  5.40   \n",
       "698 2022-11-28 09:30:27.277              115 km E of ‘Ohonua, Tonga  5.40   \n",
       "\n",
       "    magType    depth          latitude          longitude  \n",
       "0        Mb   59.050          -19.2078           -70.0687  \n",
       "1        Mb  145.290          -28.9031            -69.859  \n",
       "2        Mb  184.000            -21.15             -69.13  \n",
       "3        Mb  128.650          -22.6113           -68.5343  \n",
       "4        Mb   35.000          -33.3612           -71.7152  \n",
       "..      ...      ...               ...                ...  \n",
       "694      ml    8.170  19.3043327331543  -155.434997558594  \n",
       "695     mww  153.554          -21.1637           -68.4698  \n",
       "696     mww   18.051           18.7113           146.9627  \n",
       "697     mww   10.000           -9.8276           159.5324  \n",
       "698     mww   43.610          -21.3843          -173.8365  \n",
       "\n",
       "[699 rows x 7 columns]"
      ]
     },
     "execution_count": 55,
     "metadata": {},
     "output_type": "execute_result"
    }
   ],
   "source": [
    "df"
   ]
  },
  {
   "cell_type": "code",
   "execution_count": 56,
   "metadata": {},
   "outputs": [
    {
     "data": {
      "text/html": [
       "<div>\n",
       "<style scoped>\n",
       "    .dataframe tbody tr th:only-of-type {\n",
       "        vertical-align: middle;\n",
       "    }\n",
       "\n",
       "    .dataframe tbody tr th {\n",
       "        vertical-align: top;\n",
       "    }\n",
       "\n",
       "    .dataframe thead th {\n",
       "        text-align: right;\n",
       "    }\n",
       "</style>\n",
       "<table border=\"1\" class=\"dataframe\">\n",
       "  <thead>\n",
       "    <tr style=\"text-align: right;\">\n",
       "      <th></th>\n",
       "      <th>time</th>\n",
       "      <th>place</th>\n",
       "      <th>mag</th>\n",
       "      <th>magType</th>\n",
       "      <th>depth</th>\n",
       "      <th>latitude</th>\n",
       "      <th>longitude</th>\n",
       "    </tr>\n",
       "  </thead>\n",
       "  <tbody>\n",
       "    <tr>\n",
       "      <th>79</th>\n",
       "      <td>2022-09-05 07:50:58.000</td>\n",
       "      <td>75 km al SO de Valparaíso - Chile</td>\n",
       "      <td>4.90</td>\n",
       "      <td>Mb</td>\n",
       "      <td>10.00</td>\n",
       "      <td>-33.4356</td>\n",
       "      <td>-72.2752</td>\n",
       "    </tr>\n",
       "    <tr>\n",
       "      <th>96</th>\n",
       "      <td>2022-09-06 04:46:04.000</td>\n",
       "      <td>178 km al NE de Antofagasta - Chile</td>\n",
       "      <td>4.20</td>\n",
       "      <td>Mb</td>\n",
       "      <td>101.00</td>\n",
       "      <td>-22.71</td>\n",
       "      <td>-68.99</td>\n",
       "    </tr>\n",
       "    <tr>\n",
       "      <th>17</th>\n",
       "      <td>2022-09-06 13:14:36.000</td>\n",
       "      <td>160 km al NE de Antofagasta - Chile</td>\n",
       "      <td>5.00</td>\n",
       "      <td>Mb</td>\n",
       "      <td>94.24</td>\n",
       "      <td>-23.0973</td>\n",
       "      <td>-68.9547</td>\n",
       "    </tr>\n",
       "    <tr>\n",
       "      <th>66</th>\n",
       "      <td>2022-09-06 21:23:01.000</td>\n",
       "      <td>117 km al E de Arica - Chile</td>\n",
       "      <td>4.40</td>\n",
       "      <td>Mb</td>\n",
       "      <td>111.00</td>\n",
       "      <td>-18.57</td>\n",
       "      <td>-69.19</td>\n",
       "    </tr>\n",
       "    <tr>\n",
       "      <th>91</th>\n",
       "      <td>2022-09-08 23:13:47.000</td>\n",
       "      <td>154 km al NO de Concepción - Chile</td>\n",
       "      <td>4.20</td>\n",
       "      <td>Mb</td>\n",
       "      <td>10.00</td>\n",
       "      <td>-35.4987</td>\n",
       "      <td>-73.5291</td>\n",
       "    </tr>\n",
       "    <tr>\n",
       "      <th>...</th>\n",
       "      <td>...</td>\n",
       "      <td>...</td>\n",
       "      <td>...</td>\n",
       "      <td>...</td>\n",
       "      <td>...</td>\n",
       "      <td>...</td>\n",
       "      <td>...</td>\n",
       "    </tr>\n",
       "    <tr>\n",
       "      <th>324</th>\n",
       "      <td>2022-11-29 20:31:40.470</td>\n",
       "      <td>31 km NNW of Charlotte Amalie, U.S. Virgin Isl...</td>\n",
       "      <td>2.85</td>\n",
       "      <td>md</td>\n",
       "      <td>38.61</td>\n",
       "      <td>18.5986666666667</td>\n",
       "      <td>-65.0665</td>\n",
       "    </tr>\n",
       "    <tr>\n",
       "      <th>309</th>\n",
       "      <td>2022-11-29 20:34:50.420</td>\n",
       "      <td>3km ENE of Bishop, CA</td>\n",
       "      <td>2.22</td>\n",
       "      <td>md</td>\n",
       "      <td>5.90</td>\n",
       "      <td>37.375</td>\n",
       "      <td>-118.3649979</td>\n",
       "    </tr>\n",
       "    <tr>\n",
       "      <th>244</th>\n",
       "      <td>2022-11-29 20:35:31.080</td>\n",
       "      <td>26 km E of Honaunau-Napoopoo, Hawaii</td>\n",
       "      <td>2.28</td>\n",
       "      <td>md</td>\n",
       "      <td>-0.84</td>\n",
       "      <td>19.4570007324219</td>\n",
       "      <td>-155.608673095703</td>\n",
       "    </tr>\n",
       "    <tr>\n",
       "      <th>451</th>\n",
       "      <td>2022-11-29 20:55:47.374</td>\n",
       "      <td>54 km NNE of Chickaloon, Alaska</td>\n",
       "      <td>1.70</td>\n",
       "      <td>ml</td>\n",
       "      <td>38.20</td>\n",
       "      <td>62.262</td>\n",
       "      <td>-148.1279</td>\n",
       "    </tr>\n",
       "    <tr>\n",
       "      <th>315</th>\n",
       "      <td>2022-11-29 20:56:19.700</td>\n",
       "      <td>21 km WNW of Volcano, Hawaii</td>\n",
       "      <td>1.81</td>\n",
       "      <td>md</td>\n",
       "      <td>-0.44</td>\n",
       "      <td>19.4933338165283</td>\n",
       "      <td>-155.432327270508</td>\n",
       "    </tr>\n",
       "  </tbody>\n",
       "</table>\n",
       "<p>699 rows × 7 columns</p>\n",
       "</div>"
      ],
      "text/plain": [
       "                       time  \\\n",
       "79  2022-09-05 07:50:58.000   \n",
       "96  2022-09-06 04:46:04.000   \n",
       "17  2022-09-06 13:14:36.000   \n",
       "66  2022-09-06 21:23:01.000   \n",
       "91  2022-09-08 23:13:47.000   \n",
       "..                      ...   \n",
       "324 2022-11-29 20:31:40.470   \n",
       "309 2022-11-29 20:34:50.420   \n",
       "244 2022-11-29 20:35:31.080   \n",
       "451 2022-11-29 20:55:47.374   \n",
       "315 2022-11-29 20:56:19.700   \n",
       "\n",
       "                                                 place   mag magType   depth  \\\n",
       "79                   75 km al SO de Valparaíso - Chile  4.90      Mb   10.00   \n",
       "96                 178 km al NE de Antofagasta - Chile  4.20      Mb  101.00   \n",
       "17                 160 km al NE de Antofagasta - Chile  5.00      Mb   94.24   \n",
       "66                        117 km al E de Arica - Chile  4.40      Mb  111.00   \n",
       "91                  154 km al NO de Concepción - Chile  4.20      Mb   10.00   \n",
       "..                                                 ...   ...     ...     ...   \n",
       "324  31 km NNW of Charlotte Amalie, U.S. Virgin Isl...  2.85      md   38.61   \n",
       "309                              3km ENE of Bishop, CA  2.22      md    5.90   \n",
       "244               26 km E of Honaunau-Napoopoo, Hawaii  2.28      md   -0.84   \n",
       "451                    54 km NNE of Chickaloon, Alaska  1.70      ml   38.20   \n",
       "315                       21 km WNW of Volcano, Hawaii  1.81      md   -0.44   \n",
       "\n",
       "             latitude          longitude  \n",
       "79           -33.4356           -72.2752  \n",
       "96             -22.71             -68.99  \n",
       "17           -23.0973           -68.9547  \n",
       "66             -18.57             -69.19  \n",
       "91           -35.4987           -73.5291  \n",
       "..                ...                ...  \n",
       "324  18.5986666666667           -65.0665  \n",
       "309            37.375       -118.3649979  \n",
       "244  19.4570007324219  -155.608673095703  \n",
       "451            62.262          -148.1279  \n",
       "315  19.4933338165283  -155.432327270508  \n",
       "\n",
       "[699 rows x 7 columns]"
      ]
     },
     "execution_count": 56,
     "metadata": {},
     "output_type": "execute_result"
    }
   ],
   "source": [
    "df.sort_values('time')"
   ]
  },
  {
   "cell_type": "code",
   "execution_count": 31,
   "metadata": {},
   "outputs": [],
   "source": [
    "# Drop of non important columns:\n",
    "\n",
    "df = df.drop(['latitude', 'longitude', 'time', 'place'], axis=1)"
   ]
  },
  {
   "cell_type": "code",
   "execution_count": 32,
   "metadata": {},
   "outputs": [
    {
     "data": {
      "text/html": [
       "<div>\n",
       "<style scoped>\n",
       "    .dataframe tbody tr th:only-of-type {\n",
       "        vertical-align: middle;\n",
       "    }\n",
       "\n",
       "    .dataframe tbody tr th {\n",
       "        vertical-align: top;\n",
       "    }\n",
       "\n",
       "    .dataframe thead th {\n",
       "        text-align: right;\n",
       "    }\n",
       "</style>\n",
       "<table border=\"1\" class=\"dataframe\">\n",
       "  <thead>\n",
       "    <tr style=\"text-align: right;\">\n",
       "      <th></th>\n",
       "      <th>mag</th>\n",
       "      <th>magType</th>\n",
       "      <th>depth</th>\n",
       "    </tr>\n",
       "  </thead>\n",
       "  <tbody>\n",
       "    <tr>\n",
       "      <th>0</th>\n",
       "      <td>4.00</td>\n",
       "      <td>Mb</td>\n",
       "      <td>59.050</td>\n",
       "    </tr>\n",
       "    <tr>\n",
       "      <th>1</th>\n",
       "      <td>4.00</td>\n",
       "      <td>Mb</td>\n",
       "      <td>145.290</td>\n",
       "    </tr>\n",
       "    <tr>\n",
       "      <th>2</th>\n",
       "      <td>4.00</td>\n",
       "      <td>Mb</td>\n",
       "      <td>184.000</td>\n",
       "    </tr>\n",
       "    <tr>\n",
       "      <th>3</th>\n",
       "      <td>4.00</td>\n",
       "      <td>Mb</td>\n",
       "      <td>128.650</td>\n",
       "    </tr>\n",
       "    <tr>\n",
       "      <th>4</th>\n",
       "      <td>4.00</td>\n",
       "      <td>Mb</td>\n",
       "      <td>35.000</td>\n",
       "    </tr>\n",
       "    <tr>\n",
       "      <th>...</th>\n",
       "      <td>...</td>\n",
       "      <td>...</td>\n",
       "      <td>...</td>\n",
       "    </tr>\n",
       "    <tr>\n",
       "      <th>694</th>\n",
       "      <td>1.81</td>\n",
       "      <td>ml</td>\n",
       "      <td>8.170</td>\n",
       "    </tr>\n",
       "    <tr>\n",
       "      <th>695</th>\n",
       "      <td>4.60</td>\n",
       "      <td>mww</td>\n",
       "      <td>153.554</td>\n",
       "    </tr>\n",
       "    <tr>\n",
       "      <th>696</th>\n",
       "      <td>5.60</td>\n",
       "      <td>mww</td>\n",
       "      <td>18.051</td>\n",
       "    </tr>\n",
       "    <tr>\n",
       "      <th>697</th>\n",
       "      <td>5.40</td>\n",
       "      <td>mww</td>\n",
       "      <td>10.000</td>\n",
       "    </tr>\n",
       "    <tr>\n",
       "      <th>698</th>\n",
       "      <td>5.40</td>\n",
       "      <td>mww</td>\n",
       "      <td>43.610</td>\n",
       "    </tr>\n",
       "  </tbody>\n",
       "</table>\n",
       "<p>699 rows × 3 columns</p>\n",
       "</div>"
      ],
      "text/plain": [
       "      mag magType    depth\n",
       "0    4.00      Mb   59.050\n",
       "1    4.00      Mb  145.290\n",
       "2    4.00      Mb  184.000\n",
       "3    4.00      Mb  128.650\n",
       "4    4.00      Mb   35.000\n",
       "..    ...     ...      ...\n",
       "694  1.81      ml    8.170\n",
       "695  4.60     mww  153.554\n",
       "696  5.60     mww   18.051\n",
       "697  5.40     mww   10.000\n",
       "698  5.40     mww   43.610\n",
       "\n",
       "[699 rows x 3 columns]"
      ]
     },
     "execution_count": 32,
     "metadata": {},
     "output_type": "execute_result"
    }
   ],
   "source": [
    "df "
   ]
  },
  {
   "cell_type": "code",
   "execution_count": null,
   "metadata": {},
   "outputs": [],
   "source": []
  },
  {
   "cell_type": "code",
   "execution_count": 33,
   "metadata": {},
   "outputs": [
    {
     "data": {
      "text/html": [
       "<style>#sk-container-id-3 {color: black;background-color: white;}#sk-container-id-3 pre{padding: 0;}#sk-container-id-3 div.sk-toggleable {background-color: white;}#sk-container-id-3 label.sk-toggleable__label {cursor: pointer;display: block;width: 100%;margin-bottom: 0;padding: 0.3em;box-sizing: border-box;text-align: center;}#sk-container-id-3 label.sk-toggleable__label-arrow:before {content: \"▸\";float: left;margin-right: 0.25em;color: #696969;}#sk-container-id-3 label.sk-toggleable__label-arrow:hover:before {color: black;}#sk-container-id-3 div.sk-estimator:hover label.sk-toggleable__label-arrow:before {color: black;}#sk-container-id-3 div.sk-toggleable__content {max-height: 0;max-width: 0;overflow: hidden;text-align: left;background-color: #f0f8ff;}#sk-container-id-3 div.sk-toggleable__content pre {margin: 0.2em;color: black;border-radius: 0.25em;background-color: #f0f8ff;}#sk-container-id-3 input.sk-toggleable__control:checked~div.sk-toggleable__content {max-height: 200px;max-width: 100%;overflow: auto;}#sk-container-id-3 input.sk-toggleable__control:checked~label.sk-toggleable__label-arrow:before {content: \"▾\";}#sk-container-id-3 div.sk-estimator input.sk-toggleable__control:checked~label.sk-toggleable__label {background-color: #d4ebff;}#sk-container-id-3 div.sk-label input.sk-toggleable__control:checked~label.sk-toggleable__label {background-color: #d4ebff;}#sk-container-id-3 input.sk-hidden--visually {border: 0;clip: rect(1px 1px 1px 1px);clip: rect(1px, 1px, 1px, 1px);height: 1px;margin: -1px;overflow: hidden;padding: 0;position: absolute;width: 1px;}#sk-container-id-3 div.sk-estimator {font-family: monospace;background-color: #f0f8ff;border: 1px dotted black;border-radius: 0.25em;box-sizing: border-box;margin-bottom: 0.5em;}#sk-container-id-3 div.sk-estimator:hover {background-color: #d4ebff;}#sk-container-id-3 div.sk-parallel-item::after {content: \"\";width: 100%;border-bottom: 1px solid gray;flex-grow: 1;}#sk-container-id-3 div.sk-label:hover label.sk-toggleable__label {background-color: #d4ebff;}#sk-container-id-3 div.sk-serial::before {content: \"\";position: absolute;border-left: 1px solid gray;box-sizing: border-box;top: 0;bottom: 0;left: 50%;z-index: 0;}#sk-container-id-3 div.sk-serial {display: flex;flex-direction: column;align-items: center;background-color: white;padding-right: 0.2em;padding-left: 0.2em;position: relative;}#sk-container-id-3 div.sk-item {position: relative;z-index: 1;}#sk-container-id-3 div.sk-parallel {display: flex;align-items: stretch;justify-content: center;background-color: white;position: relative;}#sk-container-id-3 div.sk-item::before, #sk-container-id-3 div.sk-parallel-item::before {content: \"\";position: absolute;border-left: 1px solid gray;box-sizing: border-box;top: 0;bottom: 0;left: 50%;z-index: -1;}#sk-container-id-3 div.sk-parallel-item {display: flex;flex-direction: column;z-index: 1;position: relative;background-color: white;}#sk-container-id-3 div.sk-parallel-item:first-child::after {align-self: flex-end;width: 50%;}#sk-container-id-3 div.sk-parallel-item:last-child::after {align-self: flex-start;width: 50%;}#sk-container-id-3 div.sk-parallel-item:only-child::after {width: 0;}#sk-container-id-3 div.sk-dashed-wrapped {border: 1px dashed gray;margin: 0 0.4em 0.5em 0.4em;box-sizing: border-box;padding-bottom: 0.4em;background-color: white;}#sk-container-id-3 div.sk-label label {font-family: monospace;font-weight: bold;display: inline-block;line-height: 1.2em;}#sk-container-id-3 div.sk-label-container {text-align: center;}#sk-container-id-3 div.sk-container {/* jupyter's `normalize.less` sets `[hidden] { display: none; }` but bootstrap.min.css set `[hidden] { display: none !important; }` so we also need the `!important` here to be able to override the default hidden behavior on the sphinx rendered scikit-learn.org. See: https://github.com/scikit-learn/scikit-learn/issues/21755 */display: inline-block !important;position: relative;}#sk-container-id-3 div.sk-text-repr-fallback {display: none;}</style><div id=\"sk-container-id-3\" class=\"sk-top-container\"><div class=\"sk-text-repr-fallback\"><pre>OneHotEncoder()</pre><b>In a Jupyter environment, please rerun this cell to show the HTML representation or trust the notebook. <br />On GitHub, the HTML representation is unable to render, please try loading this page with nbviewer.org.</b></div><div class=\"sk-container\" hidden><div class=\"sk-item\"><div class=\"sk-estimator sk-toggleable\"><input class=\"sk-toggleable__control sk-hidden--visually\" id=\"sk-estimator-id-7\" type=\"checkbox\" checked><label for=\"sk-estimator-id-7\" class=\"sk-toggleable__label sk-toggleable__label-arrow\">OneHotEncoder</label><div class=\"sk-toggleable__content\"><pre>OneHotEncoder()</pre></div></div></div></div></div>"
      ],
      "text/plain": [
       "OneHotEncoder()"
      ]
     },
     "execution_count": 33,
     "metadata": {},
     "output_type": "execute_result"
    }
   ],
   "source": [
    "# Set a OneHotEncoder for magType column:\n",
    "\n",
    "encoder = sklearn.preprocessing.OneHotEncoder(categories='auto', handle_unknown= 'error')\n",
    "\n",
    "encoder.fit(df[['magType']])"
   ]
  },
  {
   "cell_type": "code",
   "execution_count": 34,
   "metadata": {},
   "outputs": [
    {
     "data": {
      "text/plain": [
       "[array(['Mb', 'Ml', 'Mw', 'mb', 'md', 'ml', 'mww'], dtype=object)]"
      ]
     },
     "execution_count": 34,
     "metadata": {},
     "output_type": "execute_result"
    }
   ],
   "source": [
    "encoder.categories_"
   ]
  },
  {
   "cell_type": "code",
   "execution_count": 35,
   "metadata": {},
   "outputs": [],
   "source": [
    "column_transf = make_column_transformer((encoder, ['magType']), remainder= 'passthrough')"
   ]
  },
  {
   "cell_type": "code",
   "execution_count": 36,
   "metadata": {},
   "outputs": [],
   "source": [
    "df = column_transf.fit_transform(df)"
   ]
  },
  {
   "cell_type": "code",
   "execution_count": 37,
   "metadata": {},
   "outputs": [
    {
     "data": {
      "text/plain": [
       "array([[  1.   ,   0.   ,   0.   , ...,   0.   ,   4.   ,  59.05 ],\n",
       "       [  1.   ,   0.   ,   0.   , ...,   0.   ,   4.   , 145.29 ],\n",
       "       [  1.   ,   0.   ,   0.   , ...,   0.   ,   4.   , 184.   ],\n",
       "       ...,\n",
       "       [  0.   ,   0.   ,   0.   , ...,   1.   ,   5.6  ,  18.051],\n",
       "       [  0.   ,   0.   ,   0.   , ...,   1.   ,   5.4  ,  10.   ],\n",
       "       [  0.   ,   0.   ,   0.   , ...,   1.   ,   5.4  ,  43.61 ]])"
      ]
     },
     "execution_count": 37,
     "metadata": {},
     "output_type": "execute_result"
    }
   ],
   "source": [
    "df"
   ]
  },
  {
   "cell_type": "code",
   "execution_count": 38,
   "metadata": {},
   "outputs": [],
   "source": [
    "# Import ML model K-means and trains with df\n",
    "from sklearn.cluster import KMeans\n",
    "\n",
    "kmeans = KMeans(n_clusters= 4, random_state= 12)"
   ]
  },
  {
   "cell_type": "code",
   "execution_count": 39,
   "metadata": {},
   "outputs": [
    {
     "data": {
      "text/html": [
       "<style>#sk-container-id-4 {color: black;background-color: white;}#sk-container-id-4 pre{padding: 0;}#sk-container-id-4 div.sk-toggleable {background-color: white;}#sk-container-id-4 label.sk-toggleable__label {cursor: pointer;display: block;width: 100%;margin-bottom: 0;padding: 0.3em;box-sizing: border-box;text-align: center;}#sk-container-id-4 label.sk-toggleable__label-arrow:before {content: \"▸\";float: left;margin-right: 0.25em;color: #696969;}#sk-container-id-4 label.sk-toggleable__label-arrow:hover:before {color: black;}#sk-container-id-4 div.sk-estimator:hover label.sk-toggleable__label-arrow:before {color: black;}#sk-container-id-4 div.sk-toggleable__content {max-height: 0;max-width: 0;overflow: hidden;text-align: left;background-color: #f0f8ff;}#sk-container-id-4 div.sk-toggleable__content pre {margin: 0.2em;color: black;border-radius: 0.25em;background-color: #f0f8ff;}#sk-container-id-4 input.sk-toggleable__control:checked~div.sk-toggleable__content {max-height: 200px;max-width: 100%;overflow: auto;}#sk-container-id-4 input.sk-toggleable__control:checked~label.sk-toggleable__label-arrow:before {content: \"▾\";}#sk-container-id-4 div.sk-estimator input.sk-toggleable__control:checked~label.sk-toggleable__label {background-color: #d4ebff;}#sk-container-id-4 div.sk-label input.sk-toggleable__control:checked~label.sk-toggleable__label {background-color: #d4ebff;}#sk-container-id-4 input.sk-hidden--visually {border: 0;clip: rect(1px 1px 1px 1px);clip: rect(1px, 1px, 1px, 1px);height: 1px;margin: -1px;overflow: hidden;padding: 0;position: absolute;width: 1px;}#sk-container-id-4 div.sk-estimator {font-family: monospace;background-color: #f0f8ff;border: 1px dotted black;border-radius: 0.25em;box-sizing: border-box;margin-bottom: 0.5em;}#sk-container-id-4 div.sk-estimator:hover {background-color: #d4ebff;}#sk-container-id-4 div.sk-parallel-item::after {content: \"\";width: 100%;border-bottom: 1px solid gray;flex-grow: 1;}#sk-container-id-4 div.sk-label:hover label.sk-toggleable__label {background-color: #d4ebff;}#sk-container-id-4 div.sk-serial::before {content: \"\";position: absolute;border-left: 1px solid gray;box-sizing: border-box;top: 0;bottom: 0;left: 50%;z-index: 0;}#sk-container-id-4 div.sk-serial {display: flex;flex-direction: column;align-items: center;background-color: white;padding-right: 0.2em;padding-left: 0.2em;position: relative;}#sk-container-id-4 div.sk-item {position: relative;z-index: 1;}#sk-container-id-4 div.sk-parallel {display: flex;align-items: stretch;justify-content: center;background-color: white;position: relative;}#sk-container-id-4 div.sk-item::before, #sk-container-id-4 div.sk-parallel-item::before {content: \"\";position: absolute;border-left: 1px solid gray;box-sizing: border-box;top: 0;bottom: 0;left: 50%;z-index: -1;}#sk-container-id-4 div.sk-parallel-item {display: flex;flex-direction: column;z-index: 1;position: relative;background-color: white;}#sk-container-id-4 div.sk-parallel-item:first-child::after {align-self: flex-end;width: 50%;}#sk-container-id-4 div.sk-parallel-item:last-child::after {align-self: flex-start;width: 50%;}#sk-container-id-4 div.sk-parallel-item:only-child::after {width: 0;}#sk-container-id-4 div.sk-dashed-wrapped {border: 1px dashed gray;margin: 0 0.4em 0.5em 0.4em;box-sizing: border-box;padding-bottom: 0.4em;background-color: white;}#sk-container-id-4 div.sk-label label {font-family: monospace;font-weight: bold;display: inline-block;line-height: 1.2em;}#sk-container-id-4 div.sk-label-container {text-align: center;}#sk-container-id-4 div.sk-container {/* jupyter's `normalize.less` sets `[hidden] { display: none; }` but bootstrap.min.css set `[hidden] { display: none !important; }` so we also need the `!important` here to be able to override the default hidden behavior on the sphinx rendered scikit-learn.org. See: https://github.com/scikit-learn/scikit-learn/issues/21755 */display: inline-block !important;position: relative;}#sk-container-id-4 div.sk-text-repr-fallback {display: none;}</style><div id=\"sk-container-id-4\" class=\"sk-top-container\"><div class=\"sk-text-repr-fallback\"><pre>KMeans(n_clusters=4, random_state=12)</pre><b>In a Jupyter environment, please rerun this cell to show the HTML representation or trust the notebook. <br />On GitHub, the HTML representation is unable to render, please try loading this page with nbviewer.org.</b></div><div class=\"sk-container\" hidden><div class=\"sk-item\"><div class=\"sk-estimator sk-toggleable\"><input class=\"sk-toggleable__control sk-hidden--visually\" id=\"sk-estimator-id-8\" type=\"checkbox\" checked><label for=\"sk-estimator-id-8\" class=\"sk-toggleable__label sk-toggleable__label-arrow\">KMeans</label><div class=\"sk-toggleable__content\"><pre>KMeans(n_clusters=4, random_state=12)</pre></div></div></div></div></div>"
      ],
      "text/plain": [
       "KMeans(n_clusters=4, random_state=12)"
      ]
     },
     "execution_count": 39,
     "metadata": {},
     "output_type": "execute_result"
    }
   ],
   "source": [
    "kmeans.fit(df)"
   ]
  },
  {
   "cell_type": "code",
   "execution_count": 41,
   "metadata": {},
   "outputs": [],
   "source": [
    "rad= kmeans.labels_\n",
    "center = kmeans.cluster_centers_"
   ]
  },
  {
   "cell_type": "code",
   "execution_count": 47,
   "metadata": {},
   "outputs": [
    {
     "data": {
      "image/png": "[encoded data removed]",
      "text/plain": [
       "<Figure size 432x288 with 1 Axes>"
      ]
     },
     "metadata": {},
     "output_type": "display_data"
    }
   ],
   "source": [
    "# Plot:\n",
    "\n",
    "sns.scatterplot(x = df[:, 0], y = df[:, -1], hue = rad)\n",
    "sns.scatterplot(x = center[:, 0], y = center[:, 1],color='white', marker=\"+\", s=300)\n",
    "plt.title('Clusters')\n",
    "plt.show()"
   ]
  },
  {
   "cell_type": "code",
   "execution_count": null,
   "metadata": {},
   "outputs": [],
   "source": [
    "url = 'https://earthquake.usgs.gov/fdsnws/event/1/query?format=geojson&starttime=2022-09-25&endtime=2022-11-01'\n",
    "json_obj = urlopen(url)\n",
    "data = json.load(json_obj)\n",
    "df = pd.json_normalize(data, record_path=['features'])"
   ]
  },
  {
   "cell_type": "code",
   "execution_count": null,
   "metadata": {},
   "outputs": [],
   "source": [
    "kmeans = KMeans(n_clusters=5, random_state=12)\n",
    "\n",
    "kmeans.fit(db)\n"
   ]
  }
 ],
 "metadata": {
  "kernelspec": {
   "display_name": "Python 3.10.1 64-bit",
   "language": "python",
   "name": "python3"
  },
  "language_info": {
   "codemirror_mode": {
    "name": "ipython",
    "version": 3
   },
   "file_extension": ".py",
   "mimetype": "text/x-python",
   "name": "python",
   "nbconvert_exporter": "python",
   "pygments_lexer": "ipython3",
   "version": "3.10.1"
  },
  "orig_nbformat": 4,
  "vscode": {
   "interpreter": {
    "hash": "e038e575f35dd289d7e3684377dff5dd74a086626e6db16524b72780456b9adf"
   }
  }
 },
 "nbformat": 4,
 "nbformat_minor": 2
}
