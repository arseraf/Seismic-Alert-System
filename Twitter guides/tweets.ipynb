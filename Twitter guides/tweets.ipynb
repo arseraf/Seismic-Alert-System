{
 "cells": [
  {
   "cell_type": "markdown",
   "metadata": {},
   "source": [
    "# Libraries imported"
   ]
  },
  {
   "cell_type": "code",
   "execution_count": 3,
   "metadata": {},
   "outputs": [],
   "source": [
    "import snscrape.modules.twitter as sntwitter # pip install snscrape\n",
    "import pandas as pd # pip install pandas"
   ]
  },
  {
   "cell_type": "markdown",
   "metadata": {},
   "source": [
    "# Parameters"
   ]
  },
  {
   "cell_type": "code",
   "execution_count": 5,
   "metadata": {},
   "outputs": [],
   "source": [
    "query = '(terremoto OR sismo OR Terremoto OR Sismo) until:2022-11-16 since:2020-01-01' # search filters\n",
    "tweets = [] # list to save tweets\n",
    "limit = 500 # limit of retrieved tweets"
   ]
  },
  {
   "cell_type": "markdown",
   "metadata": {},
   "source": [
    "# Getting the tweets"
   ]
  },
  {
   "cell_type": "code",
   "execution_count": 6,
   "metadata": {},
   "outputs": [],
   "source": [
    "for tweet in sntwitter.TwitterSearchScraper(query).get_items():\n",
    "    if len(tweets) == limit:\n",
    "        break\n",
    "    else:\n",
    "        tweets.append([tweet.date, tweet.user.username, tweet.content]) # Only keeping the date, user and the tweet\n",
    "\n",
    "df = pd.DataFrame(tweets, columns=['date', 'user', 'tweet']) # Convert the tweets list to a Dataframe"
   ]
  },
  {
   "cell_type": "code",
   "execution_count": 7,
   "metadata": {},
   "outputs": [
    {
     "data": {
      "text/html": [
       "<div>\n",
       "<style scoped>\n",
       "    .dataframe tbody tr th:only-of-type {\n",
       "        vertical-align: middle;\n",
       "    }\n",
       "\n",
       "    .dataframe tbody tr th {\n",
       "        vertical-align: top;\n",
       "    }\n",
       "\n",
       "    .dataframe thead th {\n",
       "        text-align: right;\n",
       "    }\n",
       "</style>\n",
       "<table border=\"1\" class=\"dataframe\">\n",
       "  <thead>\n",
       "    <tr style=\"text-align: right;\">\n",
       "      <th></th>\n",
       "      <th>date</th>\n",
       "      <th>user</th>\n",
       "      <th>tweet</th>\n",
       "    </tr>\n",
       "  </thead>\n",
       "  <tbody>\n",
       "    <tr>\n",
       "      <th>0</th>\n",
       "      <td>2022-11-15 23:59:51+00:00</td>\n",
       "      <td>ChileAlertaApp</td>\n",
       "      <td>#Sismografo de la region del #Bíobío registran...</td>\n",
       "    </tr>\n",
       "    <tr>\n",
       "      <th>1</th>\n",
       "      <td>2022-11-15 23:59:44+00:00</td>\n",
       "      <td>Titanio_Records</td>\n",
       "      <td>Todo México al enterarse del fallecimiento de ...</td>\n",
       "    </tr>\n",
       "    <tr>\n",
       "      <th>2</th>\n",
       "      <td>2022-11-15 23:59:28+00:00</td>\n",
       "      <td>ElNuevoSiglo</td>\n",
       "      <td>#Cultura | 🐶Murió Frida, famosa perra rescatis...</td>\n",
       "    </tr>\n",
       "    <tr>\n",
       "      <th>3</th>\n",
       "      <td>2022-11-15 23:58:55+00:00</td>\n",
       "      <td>Anabarent04</td>\n",
       "      <td>@PonchoGutz @DeniseMaerker Jajajaja\\nLa que ge...</td>\n",
       "    </tr>\n",
       "    <tr>\n",
       "      <th>4</th>\n",
       "      <td>2022-11-15 23:58:43+00:00</td>\n",
       "      <td>gmldigital</td>\n",
       "      <td>Muere Frida, perrita rescatista del sismo de 2...</td>\n",
       "    </tr>\n",
       "    <tr>\n",
       "      <th>...</th>\n",
       "      <td>...</td>\n",
       "      <td>...</td>\n",
       "      <td>...</td>\n",
       "    </tr>\n",
       "    <tr>\n",
       "      <th>495</th>\n",
       "      <td>2022-11-15 22:34:44+00:00</td>\n",
       "      <td>luisamiermx</td>\n",
       "      <td>#ÚLTIMAHORA SEMAR confirma muerte de Frida, la...</td>\n",
       "    </tr>\n",
       "    <tr>\n",
       "      <th>496</th>\n",
       "      <td>2022-11-15 22:34:44+00:00</td>\n",
       "      <td>Carlosmont88</td>\n",
       "      <td>También estubo en el terremoto del 2016 en Ecu...</td>\n",
       "    </tr>\n",
       "    <tr>\n",
       "      <th>497</th>\n",
       "      <td>2022-11-15 22:34:12+00:00</td>\n",
       "      <td>ElChisteDelSofa</td>\n",
       "      <td>#ÚltimaHora🚨 Fallece perrita rescatista #Frida...</td>\n",
       "    </tr>\n",
       "    <tr>\n",
       "      <th>498</th>\n",
       "      <td>2022-11-15 22:34:11+00:00</td>\n",
       "      <td>AnitaLomeli</td>\n",
       "      <td>La Secretaría de Marina (@SEMAR_mx) informó es...</td>\n",
       "    </tr>\n",
       "    <tr>\n",
       "      <th>499</th>\n",
       "      <td>2022-11-15 22:34:06+00:00</td>\n",
       "      <td>futbolerosofic</td>\n",
       "      <td>¡SE FUE UNA HEROÍNA! 🙏🏻 \\n\\nLa Secretaría de M...</td>\n",
       "    </tr>\n",
       "  </tbody>\n",
       "</table>\n",
       "<p>500 rows × 3 columns</p>\n",
       "</div>"
      ],
      "text/plain": [
       "                         date             user  \\\n",
       "0   2022-11-15 23:59:51+00:00   ChileAlertaApp   \n",
       "1   2022-11-15 23:59:44+00:00  Titanio_Records   \n",
       "2   2022-11-15 23:59:28+00:00     ElNuevoSiglo   \n",
       "3   2022-11-15 23:58:55+00:00      Anabarent04   \n",
       "4   2022-11-15 23:58:43+00:00       gmldigital   \n",
       "..                        ...              ...   \n",
       "495 2022-11-15 22:34:44+00:00      luisamiermx   \n",
       "496 2022-11-15 22:34:44+00:00     Carlosmont88   \n",
       "497 2022-11-15 22:34:12+00:00  ElChisteDelSofa   \n",
       "498 2022-11-15 22:34:11+00:00      AnitaLomeli   \n",
       "499 2022-11-15 22:34:06+00:00   futbolerosofic   \n",
       "\n",
       "                                                 tweet  \n",
       "0    #Sismografo de la region del #Bíobío registran...  \n",
       "1    Todo México al enterarse del fallecimiento de ...  \n",
       "2    #Cultura | 🐶Murió Frida, famosa perra rescatis...  \n",
       "3    @PonchoGutz @DeniseMaerker Jajajaja\\nLa que ge...  \n",
       "4    Muere Frida, perrita rescatista del sismo de 2...  \n",
       "..                                                 ...  \n",
       "495  #ÚLTIMAHORA SEMAR confirma muerte de Frida, la...  \n",
       "496  También estubo en el terremoto del 2016 en Ecu...  \n",
       "497  #ÚltimaHora🚨 Fallece perrita rescatista #Frida...  \n",
       "498  La Secretaría de Marina (@SEMAR_mx) informó es...  \n",
       "499  ¡SE FUE UNA HEROÍNA! 🙏🏻 \\n\\nLa Secretaría de M...  \n",
       "\n",
       "[500 rows x 3 columns]"
      ]
     },
     "execution_count": 7,
     "metadata": {},
     "output_type": "execute_result"
    }
   ],
   "source": [
    "df"
   ]
  }
 ],
 "metadata": {
  "kernelspec": {
   "display_name": "Python 3.10.5 64-bit",
   "language": "python",
   "name": "python3"
  },
  "language_info": {
   "codemirror_mode": {
    "name": "ipython",
    "version": 3
   },
   "file_extension": ".py",
   "mimetype": "text/x-python",
   "name": "python",
   "nbconvert_exporter": "python",
   "pygments_lexer": "ipython3",
   "version": "3.10.5"
  },
  "orig_nbformat": 4,
  "vscode": {
   "interpreter": {
    "hash": "2efd9f29f17dafd1e01732ce528e1fd45416f34141c32d0e667b2a58f2e9bb04"
   }
  }
 },
 "nbformat": 4,
 "nbformat_minor": 2
}
